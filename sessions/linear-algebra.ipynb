{
 "cells": [
  {
   "cell_type": "markdown",
   "metadata": {},
   "source": [
    "![Py4Eng](img/logo.png)\n",
    "\n",
    "# Linear algebra\n",
    "## Yoav Ram"
   ]
  },
  {
   "cell_type": "code",
   "execution_count": 1,
   "metadata": {},
   "outputs": [],
   "source": [
    "%matplotlib inline\n",
    "import matplotlib.pyplot as plt\n",
    "import numpy as np"
   ]
  },
  {
   "cell_type": "markdown",
   "metadata": {},
   "source": [
    "Let's create a square matrix `A`:"
   ]
  },
  {
   "cell_type": "code",
   "execution_count": 2,
   "metadata": {},
   "outputs": [
    {
     "name": "stdout",
     "output_type": "stream",
     "text": [
      "[[1. 2.]\n",
      " [3. 4.]]\n"
     ]
    }
   ],
   "source": [
    "A = np.array([[1.0, 2.0], [3.0, 4.0]])\n",
    "print(A)"
   ]
  },
  {
   "cell_type": "markdown",
   "metadata": {},
   "source": [
    "Find the transpose of `A`:"
   ]
  },
  {
   "cell_type": "code",
   "execution_count": 3,
   "metadata": {},
   "outputs": [
    {
     "name": "stdout",
     "output_type": "stream",
     "text": [
      "[[1. 3.]\n",
      " [2. 4.]]\n"
     ]
    }
   ],
   "source": [
    "print(A.transpose())"
   ]
  },
  {
   "cell_type": "markdown",
   "metadata": {},
   "source": [
    "Note that we got a *view* of the matrix, not a copy, so if we change `A_trans` we also change `A`:"
   ]
  },
  {
   "cell_type": "code",
   "execution_count": 4,
   "metadata": {},
   "outputs": [
    {
     "name": "stdout",
     "output_type": "stream",
     "text": [
      "[[10.  2.]\n",
      " [ 3.  4.]]\n"
     ]
    }
   ],
   "source": [
    "A_trans = A.transpose()\n",
    "A_trans[0, 0] = 10\n",
    "print(A)"
   ]
  },
  {
   "cell_type": "markdown",
   "metadata": {},
   "source": [
    "`A.T` is just a shortcut for `A.transpose()`:"
   ]
  },
  {
   "cell_type": "code",
   "execution_count": 5,
   "metadata": {},
   "outputs": [
    {
     "name": "stdout",
     "output_type": "stream",
     "text": [
      "[[10.  2.]\n",
      " [ 3.  4.]]\n"
     ]
    }
   ],
   "source": [
    "A.T[0, 0] = 10\n",
    "print(A)"
   ]
  },
  {
   "cell_type": "markdown",
   "metadata": {},
   "source": [
    "If we want a copy of `A.T` we have to be explicit about it:"
   ]
  },
  {
   "cell_type": "code",
   "execution_count": 6,
   "metadata": {},
   "outputs": [
    {
     "name": "stdout",
     "output_type": "stream",
     "text": [
      "[[10.  2.]\n",
      " [ 3.  4.]]\n"
     ]
    }
   ],
   "source": [
    "A_trans = A.T.copy()\n",
    "A_trans[0, 0] = 22\n",
    "print(A)"
   ]
  },
  {
   "cell_type": "markdown",
   "metadata": {},
   "source": [
    "We can find the trace of `A`:"
   ]
  },
  {
   "cell_type": "code",
   "execution_count": 7,
   "metadata": {},
   "outputs": [
    {
     "data": {
      "text/plain": [
       "14.0"
      ]
     },
     "execution_count": 7,
     "metadata": {},
     "output_type": "execute_result"
    }
   ],
   "source": [
    "np.trace(A)"
   ]
  },
  {
   "cell_type": "markdown",
   "metadata": {},
   "source": [
    "And invert it:"
   ]
  },
  {
   "cell_type": "code",
   "execution_count": 8,
   "metadata": {},
   "outputs": [
    {
     "name": "stdout",
     "output_type": "stream",
     "text": [
      "[[ 0.11764706 -0.05882353]\n",
      " [-0.08823529  0.29411765]]\n"
     ]
    }
   ],
   "source": [
    "A_inv = np.linalg.inv(A)\n",
    "print(A_inv)"
   ]
  },
  {
   "cell_type": "markdown",
   "metadata": {},
   "source": [
    "Let's create the Id matrix with the same shape as `A`:"
   ]
  },
  {
   "cell_type": "code",
   "execution_count": 9,
   "metadata": {},
   "outputs": [
    {
     "name": "stdout",
     "output_type": "stream",
     "text": [
      "[[1. 0.]\n",
      " [0. 1.]]\n"
     ]
    }
   ],
   "source": [
    "U = np.eye(*A.shape)\n",
    "print(U)"
   ]
  },
  {
   "cell_type": "markdown",
   "metadata": {},
   "source": [
    "Matrix (dot) multiplication is done with the `.dot` method:\n",
    "\n",
    "We find that $A \\cdot A^{-1} \\ne 0$:"
   ]
  },
  {
   "cell_type": "code",
   "execution_count": 12,
   "metadata": {},
   "outputs": [
    {
     "data": {
      "text/plain": [
       "False"
      ]
     },
     "execution_count": 12,
     "metadata": {},
     "output_type": "execute_result"
    }
   ],
   "source": [
    "(A @ A_inv == U).all()"
   ]
  },
  {
   "cell_type": "code",
   "execution_count": 13,
   "metadata": {},
   "outputs": [
    {
     "name": "stdout",
     "output_type": "stream",
     "text": [
      "[[ 1.00000000e+00  0.00000000e+00]\n",
      " [-5.55111512e-17  1.00000000e+00]]\n"
     ]
    }
   ],
   "source": [
    "print(A @ A_inv)"
   ]
  },
  {
   "cell_type": "markdown",
   "metadata": {},
   "source": [
    "This is because of numerical errors. Instead of checking with `==` we can check with `np.allclose`, which checks equality with some tolerance (see `help(np.allclose)` for controling the tolerance):"
   ]
  },
  {
   "cell_type": "code",
   "execution_count": 14,
   "metadata": {},
   "outputs": [
    {
     "data": {
      "text/plain": [
       "True"
      ]
     },
     "execution_count": 14,
     "metadata": {},
     "output_type": "execute_result"
    }
   ],
   "source": [
    "np.allclose(A @ A_inv, U)"
   ]
  },
  {
   "cell_type": "markdown",
   "metadata": {},
   "source": [
    "## Exercise\n",
    "\n",
    "Compute the determinant of the matrix:\n",
    "\n",
    "$$\n",
    " \\begin{bmatrix}\n",
    "-5 & -3 & 7 \\\\\n",
    "2 & -5 & 8 \\\\\n",
    "1 & 4 & -2 \\\\ \n",
    "\\end{bmatrix} \n",
    "$$\n",
    "\n",
    "using the `np.linalg.det` function."
   ]
  },
  {
   "cell_type": "code",
   "execution_count": 9,
   "metadata": {},
   "outputs": [
    {
     "data": {
      "text/plain": [
       "165.00000000000009"
      ]
     },
     "execution_count": 9,
     "metadata": {},
     "output_type": "execute_result"
    }
   ],
   "source": []
  },
  {
   "cell_type": "markdown",
   "metadata": {},
   "source": [
    "## Solving linear equation systems\n",
    "\n",
    "Solve $Ab = y$ for vector $b$:"
   ]
  },
  {
   "cell_type": "code",
   "execution_count": 15,
   "metadata": {},
   "outputs": [
    {
     "name": "stdout",
     "output_type": "stream",
     "text": [
      "[0.17647059 1.61764706]\n"
     ]
    }
   ],
   "source": [
    "y = np.array([5, 7])\n",
    "b = np.linalg.solve(A, y)\n",
    "print(b)"
   ]
  },
  {
   "cell_type": "code",
   "execution_count": 16,
   "metadata": {},
   "outputs": [
    {
     "name": "stdout",
     "output_type": "stream",
     "text": [
      "True\n",
      "True\n"
     ]
    }
   ],
   "source": [
    "print((A @ b == y).all())\n",
    "print(np.allclose(A @ b, y))"
   ]
  },
  {
   "cell_type": "markdown",
   "metadata": {},
   "source": [
    "## Eigenvalues\n",
    "\n",
    "We can find the eigenvalues of `A`:"
   ]
  },
  {
   "cell_type": "code",
   "execution_count": 17,
   "metadata": {},
   "outputs": [
    {
     "name": "stdout",
     "output_type": "stream",
     "text": [
      "eigenvalues: [10.87298335  3.12701665]\n",
      "eigenvectors:\n",
      " [ 0.91649636 -0.2794051 ] [0.40004303 0.96017331]\n"
     ]
    }
   ],
   "source": [
    "eigvals, eigvecs = np.linalg.eig(A)\n",
    "print(\"eigenvalues:\", eigvals)\n",
    "print(\"eigenvectors:\\n\", *eigvecs)"
   ]
  },
  {
   "cell_type": "markdown",
   "metadata": {},
   "source": [
    "Works for a large matrix, too - let's create a big random matrix, and plot it with `matshow`:"
   ]
  },
  {
   "cell_type": "code",
   "execution_count": 18,
   "metadata": {},
   "outputs": [
    {
     "data": {
      "image/png": "[encoded data removed]",
      "text/plain": [
       "<Figure size 288x288 with 1 Axes>"
      ]
     },
     "metadata": {
      "image/png": {
       "height": 257,
       "width": 263
      },
      "needs_background": "light"
     },
     "output_type": "display_data"
    }
   ],
   "source": [
    "X = np.random.randint(0, 9, size=(200, 200))\n",
    "plt.matshow(X, cmap='gray');"
   ]
  },
  {
   "cell_type": "markdown",
   "metadata": {},
   "source": [
    "Now only find the eigenvalues. Then we plot their real part and their imaginary part:"
   ]
  },
  {
   "cell_type": "code",
   "execution_count": 19,
   "metadata": {
    "tags": []
   },
   "outputs": [],
   "source": [
    "eigvals = np.linalg.eigvals(X)"
   ]
  },
  {
   "cell_type": "code",
   "execution_count": 20,
   "metadata": {
    "scrolled": true
   },
   "outputs": [
    {
     "data": {
      "image/png": "[encoded data removed]",
      "text/plain": [
       "<Figure size 288x288 with 1 Axes>"
      ]
     },
     "metadata": {
      "image/png": {
       "height": 261,
       "width": 279
      },
      "needs_background": "light"
     },
     "output_type": "display_data"
    }
   ],
   "source": [
    "fig, ax = plt.subplots(figsize=plt.figaspect(1))\n",
    "ax.scatter(eigvals.real, eigvals.imag)\n",
    "circle = plt.Circle((0, 0), 40, alpha=0.25)\n",
    "ax.add_artist(circle)\n",
    "ax.set(\n",
    "    xlabel='Real',\n",
    "    ylabel='Imag',\n",
    "    xlim=(-50, 50) # there is one eigenvalue ~800\n",
    ");"
   ]
  },
  {
   "cell_type": "markdown",
   "metadata": {},
   "source": [
    "## Singular value decomposition\n",
    "\n",
    "Compute an approximate basis for the nullspace of `A` using the singular value decomposition (SVD) of `A`:"
   ]
  },
  {
   "cell_type": "code",
   "execution_count": 21,
   "metadata": {},
   "outputs": [
    {
     "name": "stdout",
     "output_type": "stream",
     "text": [
      "[[1 2 3]\n",
      " [4 5 6]\n",
      " [7 8 9]]\n"
     ]
    }
   ],
   "source": [
    "A = np.array([\n",
    "        [1, 2, 3], \n",
    "        [4, 5, 6], \n",
    "        [7, 8, 9]\n",
    "])\n",
    "\n",
    "# A = np.array([\n",
    "#         [1, 2, 3, 4], \n",
    "#         [4, 5, 6, 7], \n",
    "#         [7, 8, 9, 10],\n",
    "#         [11, 12, 13, 14]\n",
    "# ])\n",
    "print(A)"
   ]
  },
  {
   "cell_type": "markdown",
   "metadata": {},
   "source": [
    "We use `np.linalg.svd`:"
   ]
  },
  {
   "cell_type": "code",
   "execution_count": 22,
   "metadata": {
    "scrolled": true
   },
   "outputs": [
    {
     "name": "stdout",
     "output_type": "stream",
     "text": [
      "Help on function svd in module numpy.linalg:\n",
      "\n",
      "svd(a, full_matrices=True, compute_uv=True, hermitian=False)\n",
      "    Singular Value Decomposition.\n",
      "    \n",
      "    When `a` is a 2D array, it is factorized as ``u @ np.diag(s) @ vh\n",
      "    = (u * s) @ vh``, where `u` and `vh` are 2D unitary arrays and `s` is a 1D\n",
      "    array of `a`'s singular values. When `a` is higher-dimensional, SVD is\n",
      "    applied in stacked mode as explained below.\n",
      "    \n",
      "    Parameters\n",
      "    ----------\n",
      "    a : (..., M, N) array_like\n",
      "        A real or complex array with ``a.ndim >= 2``.\n",
      "    full_matrices : bool, optional\n",
      "        If True (default), `u` and `vh` have the shapes ``(..., M, M)`` and\n",
      "        ``(..., N, N)``, respectively.  Otherwise, the shapes are\n",
      "        ``(..., M, K)`` and ``(..., K, N)``, respectively, where\n",
      "        ``K = min(M, N)``.\n",
      "    compute_uv : bool, optional\n",
      "        Whether or not to compute `u` and `vh` in addition to `s`.  True\n",
      "        by default.\n",
      "    hermitian : bool, optional\n",
      "        If True, `a` is assumed to be Hermitian (symmetric if real-valued),\n",
      "        enabling a more efficient method for finding singular values.\n",
      "        Defaults to False.\n",
      "    \n",
      "        .. versionadded:: 1.17.0\n",
      "    \n",
      "    Returns\n",
      "    -------\n",
      "    u : { (..., M, M), (..., M, K) } array\n",
      "        Unitary array(s). The first ``a.ndim - 2`` dimensions have the same\n",
      "        size as those of the input `a`. The size of the last two dimensions\n",
      "        depends on the value of `full_matrices`. Only returned when\n",
      "        `compute_uv` is True.\n",
      "    s : (..., K) array\n",
      "        Vector(s) with the singular values, within each vector sorted in\n",
      "        descending order. The first ``a.ndim - 2`` dimensions have the same\n",
      "        size as those of the input `a`.\n",
      "    vh : { (..., N, N), (..., K, N) } array\n",
      "        Unitary array(s). The first ``a.ndim - 2`` dimensions have the same\n",
      "        size as those of the input `a`. The size of the last two dimensions\n",
      "        depends on the value of `full_matrices`. Only returned when\n",
      "        `compute_uv` is True.\n",
      "    \n",
      "    Raises\n",
      "    ------\n",
      "    LinAlgError\n",
      "        If SVD computation does not converge.\n",
      "    \n",
      "    See Also\n",
      "    --------\n",
      "    scipy.linalg.svd : Similar function in SciPy.\n",
      "    scipy.linalg.svdvals : Compute singular values of a matrix.\n",
      "    \n",
      "    Notes\n",
      "    -----\n",
      "    \n",
      "    .. versionchanged:: 1.8.0\n",
      "       Broadcasting rules apply, see the `numpy.linalg` documentation for\n",
      "       details.\n",
      "    \n",
      "    The decomposition is performed using LAPACK routine ``_gesdd``.\n",
      "    \n",
      "    SVD is usually described for the factorization of a 2D matrix :math:`A`.\n",
      "    The higher-dimensional case will be discussed below. In the 2D case, SVD is\n",
      "    written as :math:`A = U S V^H`, where :math:`A = a`, :math:`U= u`,\n",
      "    :math:`S= \\mathtt{np.diag}(s)` and :math:`V^H = vh`. The 1D array `s`\n",
      "    contains the singular values of `a` and `u` and `vh` are unitary. The rows\n",
      "    of `vh` are the eigenvectors of :math:`A^H A` and the columns of `u` are\n",
      "    the eigenvectors of :math:`A A^H`. In both cases the corresponding\n",
      "    (possibly non-zero) eigenvalues are given by ``s**2``.\n",
      "    \n",
      "    If `a` has more than two dimensions, then broadcasting rules apply, as\n",
      "    explained in :ref:`routines.linalg-broadcasting`. This means that SVD is\n",
      "    working in \"stacked\" mode: it iterates over all indices of the first\n",
      "    ``a.ndim - 2`` dimensions and for each combination SVD is applied to the\n",
      "    last two indices. The matrix `a` can be reconstructed from the\n",
      "    decomposition with either ``(u * s[..., None, :]) @ vh`` or\n",
      "    ``u @ (s[..., None] * vh)``. (The ``@`` operator can be replaced by the\n",
      "    function ``np.matmul`` for python versions below 3.5.)\n",
      "    \n",
      "    If `a` is a ``matrix`` object (as opposed to an ``ndarray``), then so are\n",
      "    all the return values.\n",
      "    \n",
      "    Examples\n",
      "    --------\n",
      "    >>> a = np.random.randn(9, 6) + 1j*np.random.randn(9, 6)\n",
      "    >>> b = np.random.randn(2, 7, 8, 3) + 1j*np.random.randn(2, 7, 8, 3)\n",
      "    \n",
      "    Reconstruction based on full SVD, 2D case:\n",
      "    \n",
      "    >>> u, s, vh = np.linalg.svd(a, full_matrices=True)\n",
      "    >>> u.shape, s.shape, vh.shape\n",
      "    ((9, 9), (6,), (6, 6))\n",
      "    >>> np.allclose(a, np.dot(u[:, :6] * s, vh))\n",
      "    True\n",
      "    >>> smat = np.zeros((9, 6), dtype=complex)\n",
      "    >>> smat[:6, :6] = np.diag(s)\n",
      "    >>> np.allclose(a, np.dot(u, np.dot(smat, vh)))\n",
      "    True\n",
      "    \n",
      "    Reconstruction based on reduced SVD, 2D case:\n",
      "    \n",
      "    >>> u, s, vh = np.linalg.svd(a, full_matrices=False)\n",
      "    >>> u.shape, s.shape, vh.shape\n",
      "    ((9, 6), (6,), (6, 6))\n",
      "    >>> np.allclose(a, np.dot(u * s, vh))\n",
      "    True\n",
      "    >>> smat = np.diag(s)\n",
      "    >>> np.allclose(a, np.dot(u, np.dot(smat, vh)))\n",
      "    True\n",
      "    \n",
      "    Reconstruction based on full SVD, 4D case:\n",
      "    \n",
      "    >>> u, s, vh = np.linalg.svd(b, full_matrices=True)\n",
      "    >>> u.shape, s.shape, vh.shape\n",
      "    ((2, 7, 8, 8), (2, 7, 3), (2, 7, 3, 3))\n",
      "    >>> np.allclose(b, np.matmul(u[..., :3] * s[..., None, :], vh))\n",
      "    True\n",
      "    >>> np.allclose(b, np.matmul(u[..., :3], s[..., None] * vh))\n",
      "    True\n",
      "    \n",
      "    Reconstruction based on reduced SVD, 4D case:\n",
      "    \n",
      "    >>> u, s, vh = np.linalg.svd(b, full_matrices=False)\n",
      "    >>> u.shape, s.shape, vh.shape\n",
      "    ((2, 7, 8, 3), (2, 7, 3), (2, 7, 3, 3))\n",
      "    >>> np.allclose(b, np.matmul(u * s[..., None, :], vh))\n",
      "    True\n",
      "    >>> np.allclose(b, np.matmul(u, s[..., None] * vh))\n",
      "    True\n",
      "\n"
     ]
    }
   ],
   "source": [
    "help(np.linalg.svd)"
   ]
  },
  {
   "cell_type": "code",
   "execution_count": 23,
   "metadata": {},
   "outputs": [
    {
     "data": {
      "text/plain": [
       "True"
      ]
     },
     "execution_count": 23,
     "metadata": {},
     "output_type": "execute_result"
    }
   ],
   "source": [
    "U, s, Vh = np.linalg.svd(A)\n",
    "S = np.diag(s)\n",
    "np.allclose(A, U.dot(S).dot(Vh))"
   ]
  },
  {
   "cell_type": "markdown",
   "metadata": {},
   "source": [
    "Now we find the position of the first almost-zero element in `s`, which is sorted in descending order:"
   ]
  },
  {
   "cell_type": "code",
   "execution_count": 24,
   "metadata": {},
   "outputs": [
    {
     "name": "stdout",
     "output_type": "stream",
     "text": [
      "s:\n",
      " [1.68481034e+01 1.06836951e+00 4.41842475e-16]\n",
      "First zero:\n",
      " 2\n"
     ]
    }
   ],
   "source": [
    "print('s:\\n', s)\n",
    "first_zero = (s >= 1e-13).sum() \n",
    "print('First zero:\\n', first_zero)"
   ]
  },
  {
   "cell_type": "markdown",
   "metadata": {},
   "source": [
    "The nullspace basis are the transpose of the conjugate of the vectors in `Vh` starting from the index of the first almost-zero in `s`:"
   ]
  },
  {
   "cell_type": "code",
   "execution_count": 25,
   "metadata": {},
   "outputs": [
    {
     "name": "stdout",
     "output_type": "stream",
     "text": [
      "Nullspace:\n",
      " [[-0.40824829]\n",
      " [ 0.81649658]\n",
      " [-0.40824829]]\n"
     ]
    }
   ],
   "source": [
    "nullspace = Vh[first_zero:].conj().T\n",
    "print('Nullspace:\\n', nullspace)"
   ]
  },
  {
   "cell_type": "markdown",
   "metadata": {},
   "source": [
    "Let's check that indeed these vectors are in the nullspace by multiplying them with `A`:"
   ]
  },
  {
   "cell_type": "code",
   "execution_count": 26,
   "metadata": {},
   "outputs": [
    {
     "name": "stdout",
     "output_type": "stream",
     "text": [
      "A*v_0 = [2.22044605e-16 4.44089210e-16 8.88178420e-16]\n",
      "Close to zero: True\n"
     ]
    }
   ],
   "source": [
    "for j in range(nullspace.shape[1]):\n",
    "    print('A*v_{} = {}'.format(j, A.dot(nullspace[:, j])))\n",
    "    print('Close to zero:', np.allclose(A.dot(nullspace[:, j]), 0))"
   ]
  },
  {
   "cell_type": "markdown",
   "metadata": {},
   "source": [
    "## Exercise\n",
    "\n",
    "Compute a random $n$-by-$n$ binary matrix using one of the random number functions in `np.random`.\n",
    "\n",
    "Then calculate the matrix rank with `np.linalg.matrix_rank` (which uses an SVD decomposition like we did above). \n",
    "\n",
    "Check if the rank is $n$.\n",
    "\n",
    "Repeat the process many time (1000? 100000?) to check the probability of drawing a random matrix with a full rank.\n",
    "\n",
    "*Bonus* Write the whole thing in a single line.\n",
    "\n",
    "See solution in [full_rank.py](../solutions/full_rank.py)."
   ]
  },
  {
   "cell_type": "code",
   "execution_count": 32,
   "metadata": {},
   "outputs": [],
   "source": []
  },
  {
   "cell_type": "markdown",
   "metadata": {},
   "source": [
    "# References\n",
    "\n",
    "- [NumPy tutorial: Linear algebra](https://docs.scipy.org/doc/numpy-dev/user/quickstart.html#linear-algebra)\n",
    "- [SciPy cookbook nullspace recipe](https://scipy.github.io/old-wiki/pages/Cookbook/RankNullspace.html)"
   ]
  },
  {
   "cell_type": "markdown",
   "metadata": {},
   "source": [
    "## Colophon\n",
    "This notebook was written by [Yoav Ram](http://python.yoavram.com) and is part of the [_Python for Engineers_](https://github.com/yoavram/Py4Eng) course.\n",
    "\n",
    "The notebook was written using [Python](http://python.org/) 3.6.1.\n",
    "Dependencies listed in [environment.yml](../environment.yml), full versions in [environment_full.yml](../environment_full.yml).\n",
    "\n",
    "This work is licensed under a CC BY-NC-SA 4.0 International License.\n",
    "\n",
    "![Python logo](https://www.python.org/static/community_logos/python-logo.png)"
   ]
  }
 ],
 "metadata": {
  "kernelspec": {
   "display_name": "Python [conda env:DataSciPy]",
   "language": "python",
   "name": "conda-env-DataSciPy-py"
  },
  "language_info": {
   "codemirror_mode": {
    "name": "ipython",
    "version": 3
   },
   "file_extension": ".py",
   "mimetype": "text/x-python",
   "name": "python",
   "nbconvert_exporter": "python",
   "pygments_lexer": "ipython3",
   "version": "3.7.12"
  }
 },
 "nbformat": 4,
 "nbformat_minor": 4
}
