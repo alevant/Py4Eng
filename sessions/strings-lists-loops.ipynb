{
 "cells": [
  {
   "cell_type": "markdown",
   "metadata": {},
   "source": [
    "\n",
    "![Py4Eng](img/logo.png)\n",
    "\n",
    "# Sequences: strings, lists, for loops"
   ]
  },
  {
   "cell_type": "markdown",
   "metadata": {},
   "source": [
    "# Strings\n",
    "\n",
    "Strings are ordered collections of _characters_. \n",
    "\n",
    "_Ordered collections_ means that elements are numbered with __indexes__: 0, 1, 2, 3, 4...  \n",
    "\n",
    "### Note that the first index is 0, __not__ 1!\n",
    "\n",
    "We can create new string usings single- or double-quotes: `'` or `\"` (but same from both sides)."
   ]
  },
  {
   "cell_type": "code",
   "execution_count": null,
   "metadata": {},
   "outputs": [],
   "source": [
    "x = \"Jupyter\"\n",
    "y = 'I love Python'\n",
    "print(x)\n",
    "print(y)"
   ]
  },
  {
   "cell_type": "markdown",
   "metadata": {},
   "source": [
    "Strings are objects of type `str`:"
   ]
  },
  {
   "cell_type": "code",
   "execution_count": null,
   "metadata": {},
   "outputs": [],
   "source": [
    "type(x)"
   ]
  },
  {
   "cell_type": "markdown",
   "metadata": {},
   "source": [
    "We can concat (לשרשר) strings:"
   ]
  },
  {
   "cell_type": "code",
   "execution_count": null,
   "metadata": {},
   "outputs": [],
   "source": [
    "print(x + \"2021\")"
   ]
  },
  {
   "cell_type": "markdown",
   "metadata": {},
   "source": [
    "We can convert string to numbers and vice versa (if it is appropriate):"
   ]
  },
  {
   "cell_type": "code",
   "execution_count": null,
   "metadata": {},
   "outputs": [],
   "source": [
    "x = \"4\"\n",
    "y = int(x)\n",
    "print(\"y + 1 =\", y + 1)"
   ]
  },
  {
   "cell_type": "markdown",
   "metadata": {},
   "source": [
    "Otherwise, we get an error message..."
   ]
  },
  {
   "cell_type": "code",
   "execution_count": null,
   "metadata": {},
   "outputs": [],
   "source": [
    "print(\"x + 1 =\", x + 1)"
   ]
  },
  {
   "cell_type": "code",
   "execution_count": null,
   "metadata": {},
   "outputs": [],
   "source": [
    "x = str(y)\n",
    "print(\"x =\", x)"
   ]
  },
  {
   "cell_type": "code",
   "execution_count": null,
   "metadata": {},
   "outputs": [],
   "source": [
    "x = \"3.14\"\n",
    "y = float(x)\n",
    "print(\"y*2 =\", y * 2)"
   ]
  },
  {
   "cell_type": "markdown",
   "metadata": {},
   "source": [
    "Strings are text but can represent other things, too. For example, DNA sequences.\n",
    "\n",
    "#### We can concat strings:"
   ]
  },
  {
   "cell_type": "code",
   "execution_count": null,
   "metadata": {},
   "outputs": [],
   "source": [
    "upstream = \"AAA\"\n",
    "downstream = \"GGG\"\n",
    "dna = upstream + \"ATG\" + downstream\n",
    "print(dna)"
   ]
  },
  {
   "cell_type": "markdown",
   "metadata": {},
   "source": [
    "We can find the length of a string using the command `len`:"
   ]
  },
  {
   "cell_type": "code",
   "execution_count": null,
   "metadata": {},
   "outputs": [],
   "source": [
    "n = len(dna)\n",
    "print(\"The length of the DNA variable is\", n)\n",
    "\n",
    "dna = dna + \"AGCTGA\"\n",
    "print(\"Now it is\", len(dna))"
   ]
  },
  {
   "cell_type": "markdown",
   "metadata": {},
   "source": [
    "Also with strings we can use *syntactic sugar* to make `dna = dna + x` into `dna += x`:"
   ]
  },
  {
   "cell_type": "code",
   "execution_count": null,
   "metadata": {},
   "outputs": [],
   "source": [
    "print(dna)\n",
    "dna += \"AGCTGA\"\n",
    "print(dna)"
   ]
  },
  {
   "cell_type": "markdown",
   "metadata": {},
   "source": [
    "As we've seen, it also works with numbers and other operators:"
   ]
  },
  {
   "cell_type": "code",
   "execution_count": null,
   "metadata": {},
   "outputs": [],
   "source": [
    "x = 10\n",
    "x *= 7\n",
    "print(x)"
   ]
  },
  {
   "cell_type": "markdown",
   "metadata": {},
   "source": [
    "## Access: Indexing\n",
    "\n",
    "![string photo](https://www.w3resource.com/w3r_images/python-string-slice.png)\n",
    "\n",
    "Each character in a string has an index.\n",
    "\n",
    "We can acces specific characters (sequence items) in a string using square brackets (`[]`).\n",
    "\n",
    "#### Note that Python uses **zero-count** indexing: the first element has index 0."
   ]
  },
  {
   "cell_type": "code",
   "execution_count": null,
   "metadata": {},
   "outputs": [],
   "source": [
    "text = \"A musician wakes from a terrible nightmare.\""
   ]
  },
  {
   "cell_type": "code",
   "execution_count": null,
   "metadata": {},
   "outputs": [],
   "source": [
    "print(text[0])\n",
    "print(text[5])"
   ]
  },
  {
   "cell_type": "markdown",
   "metadata": {},
   "source": [
    "In addition, there is also support for reverse indexing using negative numbers.\n",
    "\n",
    "The last element is accessed using -1 index, and so on."
   ]
  },
  {
   "cell_type": "code",
   "execution_count": null,
   "metadata": {},
   "outputs": [],
   "source": [
    "print(text[-1])\n",
    "print(text[-4])"
   ]
  },
  {
   "cell_type": "markdown",
   "metadata": {},
   "source": [
    "## Access: Slicing\n",
    "\n",
    "We can extract subsets of a string by using __slicing__, with the corresponding indexes.  \n",
    "Remember: indexes start from **0**!\n",
    "\n",
    "We can get a range of indexes using _\\[start : end : step\\]_\n",
    "\n",
    "This would return the characters from index `start` (**included**) until index `end` (**not included**) with jumps of size `step`.\n",
    "\n",
    "If `step` is not provided, python use `1` as a default."
   ]
  },
  {
   "cell_type": "code",
   "execution_count": null,
   "metadata": {},
   "outputs": [],
   "source": [
    "text = \"A musician wakes from a terrible nightmare.\"\n",
    "\n",
    "# get the 3rd to 8th letters\n",
    "print(text[2:8])"
   ]
  },
  {
   "cell_type": "markdown",
   "metadata": {},
   "source": [
    "Notice that the _start_ position is included, but not the _end_ position. \n",
    "\n",
    "We actually take the character with indexes 2,3,4,5,6,7.\n",
    "\n",
    "And what do we get?"
   ]
  },
  {
   "cell_type": "code",
   "execution_count": null,
   "metadata": {},
   "outputs": [],
   "source": [
    "type(text[2:8])"
   ]
  },
  {
   "cell_type": "markdown",
   "metadata": {},
   "source": [
    "There are shorts for taking the first and last characters:"
   ]
  },
  {
   "cell_type": "code",
   "execution_count": null,
   "metadata": {},
   "outputs": [],
   "source": [
    "# get the first 5 letters\n",
    "print(text[0:5])\n",
    "# or simply:\n",
    "print(text[:5])\n",
    "\n",
    "# get 3rd to last letters:\n",
    "print(text[3:len(text)])\n",
    "print(text[3:])\n",
    "\n",
    "# last 3 letters\n",
    "print(text[-3:])"
   ]
  },
  {
   "cell_type": "code",
   "execution_count": null,
   "metadata": {},
   "outputs": [],
   "source": [
    "# get every second letter starting from the first\n",
    "print(text[0:len(text):2])\n",
    "# or simply\n",
    "print(text[::2])\n",
    "\n",
    "# get every second letter starting from the last and going backwards\n",
    "print(text[::-2])"
   ]
  },
  {
   "cell_type": "code",
   "execution_count": null,
   "metadata": {},
   "outputs": [],
   "source": [
    "# reverse the string - very useful!\n",
    "print(text[::-1])"
   ]
  },
  {
   "cell_type": "markdown",
   "metadata": {},
   "source": [
    "#### Note that creating a slice does not change the original string:"
   ]
  },
  {
   "cell_type": "code",
   "execution_count": null,
   "metadata": {},
   "outputs": [],
   "source": [
    "a = text[::-1]\n",
    "print(a)\n",
    "print(text)"
   ]
  },
  {
   "cell_type": "markdown",
   "metadata": {},
   "source": [
    "#### Changing (mutating) a character within a string is not possible - string objects are immutable"
   ]
  },
  {
   "cell_type": "code",
   "execution_count": null,
   "metadata": {},
   "outputs": [],
   "source": [
    "text[5] = 'X'"
   ]
  },
  {
   "cell_type": "markdown",
   "metadata": {},
   "source": [
    "## Exercise"
   ]
  },
  {
   "cell_type": "markdown",
   "metadata": {},
   "source": [
    "The sequence below (named _seq_) consists of 20 characters. \n",
    "\n",
    "1. Print the 2nd and 7th characters.\n",
    "2. Print the 2nd character from the end.\n",
    "3. Slice the first half of the sequence.  \n",
    "4. Slice the second half of the sequence.  \n",
    "5. Slice the middle 10 characters"
   ]
  },
  {
   "cell_type": "code",
   "execution_count": null,
   "metadata": {},
   "outputs": [],
   "source": [
    "seq = \"CAAGTAATGGCAGCCATTAA\"\n"
   ]
  },
  {
   "cell_type": "markdown",
   "metadata": {},
   "source": [
    "## Formatting string\n",
    "\n",
    "There are several ways to do this:\n",
    "1. [`printf`-style formatting](https://docs.python.org/3/library/stdtypes.html#printf-style-string-formatting), using `%`\n",
    "2. [String formatting](https://docs.python.org/3.7/library/string.html#format-string-syntax) using the `format` method\n",
    "3. [String literals](https://docs.python.org/3/reference/lexical_analysis.html#f-strings) using `f`\n",
    "4. [Template strings](https://docs.python.org/3/library/string.html#template-strings)\n",
    "\n",
    "\n",
    "### `format` method\n",
    "\n",
    "The `format` method works on a string template, with placeholders marked by curly brackets (who said Python doesn't like curly brackets?). \n",
    "\n",
    "The method arguments are parsed to be the values for the placeholders, by order:"
   ]
  },
  {
   "cell_type": "code",
   "execution_count": null,
   "metadata": {},
   "outputs": [],
   "source": [
    "message = \"Hello {}, would you like {} or {} apples?\"\n",
    "message = message.format(\"Adam Price\", 1, 2)\n",
    "print(message)"
   ]
  },
  {
   "cell_type": "markdown",
   "metadata": {},
   "source": [
    "We can also specify placeholder's replacement using indices:"
   ]
  },
  {
   "cell_type": "code",
   "execution_count": null,
   "metadata": {},
   "outputs": [],
   "source": [
    "message = 'Hello {0}, my name is {1}, if your name is not {0}, please let me know'\n",
    "message = message.format('Adam', 'Wendy')\n",
    "print(message)"
   ]
  },
  {
   "cell_type": "markdown",
   "metadata": {},
   "source": [
    "Finally, we can also use named placeholders and specify the values as keyword arguments:"
   ]
  },
  {
   "cell_type": "code",
   "execution_count": null,
   "metadata": {},
   "outputs": [],
   "source": [
    "message = 'Hello {guest}, my name is {host}, if your name is not {guest}, please let me know'\n",
    "message = message.format(guest='Adam', host='Wendy')\n",
    "print(message)"
   ]
  },
  {
   "cell_type": "markdown",
   "metadata": {},
   "source": [
    "Format automatically handles numbers and other string conversions:"
   ]
  },
  {
   "cell_type": "code",
   "execution_count": null,
   "metadata": {},
   "outputs": [],
   "source": [
    "print(\"Snowhite and the {} dwarfs\".format(7))\n",
    "print(\"Snowhite and the {} dwarfs\".format(7.0))\n",
    "print(\"Snowhite and the {} dwarfs\".format(7+0j))"
   ]
  },
  {
   "cell_type": "markdown",
   "metadata": {},
   "source": [
    "But we can specify how to convert numbers, if we want. \n",
    "\n",
    "For example, we can specify the number of decimal digits we want:"
   ]
  },
  {
   "cell_type": "code",
   "execution_count": null,
   "metadata": {},
   "outputs": [],
   "source": [
    "x = 7.0554332\n",
    "print(\"Snowhite and the {:.0f} dwarfs\".format(x))\n",
    "print(\"Snowhite and the {:.4f} dwarfs\".format(x))\n",
    "print(\"Snowhite and the {:.6f} dwarfs\".format(x))"
   ]
  },
  {
   "cell_type": "markdown",
   "metadata": {},
   "source": [
    "See all formatting options in the [docs](https://docs.python.org/3.6/library/string.html#format-string-syntax).\n",
    "\n",
    "Python 3.6 added a new string formatting option using formatted string literals, or [f-strings](https://docs.python.org/3/reference/lexical_analysis.html#f-strings)."
   ]
  },
  {
   "cell_type": "code",
   "execution_count": null,
   "metadata": {},
   "outputs": [],
   "source": [
    "name = \"John Levin\"\n",
    "age = 31\n",
    "address = \"42 Main st., Sunnyvale, CA\"\n",
    "\n",
    "print(f\"His name is {name}, he is {age} and he lives in {address}.\")"
   ]
  },
  {
   "cell_type": "markdown",
   "metadata": {},
   "source": [
    "Note the `f` before the printed string!"
   ]
  },
  {
   "cell_type": "markdown",
   "metadata": {},
   "source": [
    "## Exercise: bottles of beer\n",
    "\n",
    "Write a template and fill it with values using either `format` or f-strings to produce the following text:\n",
    "\n",
    "```\n",
    "3 bottles of beer on the wall, 3 bottles of beer.\n",
    "Take one down, pass it around, 2 bottles of beer on the wall...\n",
    "2 bottles of beer on the wall, 2 bottles of beer.\n",
    "Take one down, pass it around, 1 bottles of beer on the wall...\n",
    "1 bottles of beer on the wall, 1 bottles of beer.\n",
    "Take one down, pass it around, 0 bottles of beer on the wall...\n",
    "```"
   ]
  },
  {
   "cell_type": "code",
   "execution_count": null,
   "metadata": {},
   "outputs": [],
   "source": []
  },
  {
   "cell_type": "markdown",
   "metadata": {},
   "source": [
    "## String methods\n",
    "\n",
    "We can change a string to lowercase:"
   ]
  },
  {
   "cell_type": "code",
   "execution_count": null,
   "metadata": {},
   "outputs": [],
   "source": [
    "text = 'A Musician Wakes From a Terrible Nightmare.'\n",
    "text = text.lower()\n",
    "print(text)"
   ]
  },
  {
   "cell_type": "markdown",
   "metadata": {},
   "source": [
    "and back to uppercase:"
   ]
  },
  {
   "cell_type": "code",
   "execution_count": null,
   "metadata": {},
   "outputs": [],
   "source": [
    "text = text.upper()\n",
    "print(text)"
   ]
  },
  {
   "cell_type": "markdown",
   "metadata": {},
   "source": [
    "We can replace characters:"
   ]
  },
  {
   "cell_type": "code",
   "execution_count": null,
   "metadata": {},
   "outputs": [],
   "source": [
    "dna = 'AAAATGGGGAGCTGAAGCTGA'\n",
    "rna = dna.replace(\"T\", \"U\")\n",
    "print(dna)\n",
    "print(rna)"
   ]
  },
  {
   "cell_type": "markdown",
   "metadata": {},
   "source": [
    "#### Count\n",
    "We can count characters using the command: `some_string.count(character)`.\n",
    "\n",
    "For example, let's count the number of histidine (`H`) and proline (`P`) in the [amino-acid](http://upload.wikimedia.org/wikipedia/commons/a/a9/Amino_Acids.svg) sequence of the [Human Insulin](http://www.uniprot.org/blast/?about=P01308) enzyme:"
   ]
  },
  {
   "cell_type": "code",
   "execution_count": null,
   "metadata": {},
   "outputs": [],
   "source": [
    "insulin = 'MALWMRLLPLLALLALWGPDPAAAFVNQHLCGSHLVEALYLVCGERGFFYTPKTRREAEDLQVGQVELGGGPGAGSLQPLALEGSLQKRGIVEQCCTSICSLYQLENYCN'\n",
    "print(\"# of histidine:\", insulin.count('H'))\n",
    "print(\"# of proline:\", insulin.count('P'))"
   ]
  },
  {
   "cell_type": "markdown",
   "metadata": {},
   "source": [
    "#### Find and Index\n",
    "We can find a substring within a string.\n",
    "For example, we can look for the character `D` in the insulin sequence."
   ]
  },
  {
   "cell_type": "code",
   "execution_count": null,
   "metadata": {},
   "outputs": [],
   "source": [
    "pos = insulin.index('D')\n",
    "print(pos)"
   ]
  },
  {
   "cell_type": "code",
   "execution_count": null,
   "metadata": {},
   "outputs": [],
   "source": [
    "type(pos)"
   ]
  },
  {
   "cell_type": "code",
   "execution_count": null,
   "metadata": {},
   "outputs": [],
   "source": [
    "print(insulin[pos])"
   ]
  },
  {
   "cell_type": "markdown",
   "metadata": {},
   "source": [
    "The result is the index (position) of the first `D` found in the sequence.\n",
    "\n",
    "We can also look for longer substrings, representing motiffs. \n",
    "\n",
    "For example, let's find the position of the Insulin [B-chain](http://www.uniprot.org/blast/?about=P01308[25-54]) - a specific subsequence - in the entire protein sequence:"
   ]
  },
  {
   "cell_type": "code",
   "execution_count": null,
   "metadata": {},
   "outputs": [],
   "source": [
    "b_chain = \"FVNQHLCGSHLVEALYLVCGERGFFYTPKT\"\n",
    "position = insulin.index(b_chain)\n",
    "print(\"Position:\", position)"
   ]
  },
  {
   "cell_type": "code",
   "execution_count": null,
   "metadata": {},
   "outputs": [],
   "source": [
    "print(len(b_chain))"
   ]
  },
  {
   "cell_type": "code",
   "execution_count": null,
   "metadata": {},
   "outputs": [],
   "source": [
    "# slicing the B-chain motif\n",
    "found = insulin[position : position + len(b_chain)] # slicing (notice the ':')"
   ]
  },
  {
   "cell_type": "code",
   "execution_count": null,
   "metadata": {},
   "outputs": [],
   "source": [
    "print(b_chain == found)\n",
    "print(\"Original:\", b_chain)\n",
    "print(\"Found:   \", found)"
   ]
  },
  {
   "cell_type": "markdown",
   "metadata": {},
   "source": [
    "#### Split\n",
    "\n",
    "We can split a string on every occurence of a separator character:"
   ]
  },
  {
   "cell_type": "code",
   "execution_count": null,
   "metadata": {},
   "outputs": [],
   "source": [
    "names = \"banana,ananas,potato,tomato\"\n",
    "foods = names.split(\",\")\n",
    "print(foods)"
   ]
  },
  {
   "cell_type": "markdown",
   "metadata": {},
   "source": [
    "What do we get?"
   ]
  },
  {
   "cell_type": "code",
   "execution_count": null,
   "metadata": {},
   "outputs": [],
   "source": [
    "type(foods)"
   ]
  },
  {
   "cell_type": "markdown",
   "metadata": {},
   "source": [
    "# Lists\n",
    "\n",
    "Lists are similar to strings in being sequential, only they can contain **any type of data**, not just characters. \n",
    "\n",
    "They are also mutable (we'll get back to that distinction).\n",
    "\n",
    "Lists could even include mixed variable types.\n",
    "\n",
    "We define a list just like any other variable, but use '[ ]' and ',' to separate elements."
   ]
  },
  {
   "cell_type": "code",
   "execution_count": null,
   "metadata": {},
   "outputs": [],
   "source": [
    "# a list of strings\n",
    "apes = [\"Human\", \"Gorilla\", \"Chimpanzee\"]\n",
    "print(apes)"
   ]
  },
  {
   "cell_type": "markdown",
   "metadata": {},
   "source": [
    "![Gorila](http://upload.wikimedia.org/wikipedia/commons/thumb/c/c0/Western_Lowland_Gorilla_at_Bronx_Zoo_2_cropped.jpg/338px-Western_Lowland_Gorilla_at_Bronx_Zoo_2_cropped.jpg)"
   ]
  },
  {
   "cell_type": "code",
   "execution_count": null,
   "metadata": {},
   "outputs": [],
   "source": [
    "# a list of numbers\n",
    "nums = [7, 13, 2, 400]\n",
    "print(nums)"
   ]
  },
  {
   "cell_type": "code",
   "execution_count": null,
   "metadata": {},
   "outputs": [],
   "source": [
    "# a mixed list\n",
    "mixed = [12, 'Mouse', True]\n",
    "print(mixed)"
   ]
  },
  {
   "cell_type": "markdown",
   "metadata": {},
   "source": [
    "You can access list elements just like strings, using indexes (starting from 0):"
   ]
  },
  {
   "cell_type": "code",
   "execution_count": null,
   "metadata": {},
   "outputs": [],
   "source": [
    "print(apes[0])\n",
    "print(apes[-1])"
   ]
  },
  {
   "cell_type": "markdown",
   "metadata": {},
   "source": [
    "Lists are dynamic and mutable - you can append, remove and insert into them. \n",
    "\n",
    "This is done using _list methods_.\n",
    "\n",
    "We can access and change list elements:"
   ]
  },
  {
   "cell_type": "code",
   "execution_count": null,
   "metadata": {},
   "outputs": [],
   "source": [
    "new_apes = apes.copy() # make a copy of the apes list\n",
    "print(new_apes)\n",
    "new_apes[2] = 'Bonobo'\n",
    "print(new_apes)"
   ]
  },
  {
   "cell_type": "markdown",
   "metadata": {},
   "source": [
    "This __does NOT__ work with strings though..."
   ]
  },
  {
   "cell_type": "code",
   "execution_count": null,
   "metadata": {},
   "outputs": [],
   "source": [
    "print(dna)\n",
    "dna[5] = 'G'"
   ]
  },
  {
   "cell_type": "markdown",
   "metadata": {},
   "source": [
    "This is because strings are **immutable** whereas lists are **mutable**. We'll get back to this notion soon."
   ]
  },
  {
   "cell_type": "markdown",
   "metadata": {},
   "source": [
    "### More list methods\n",
    "\n",
    "Add element to the end of the list:"
   ]
  },
  {
   "cell_type": "code",
   "execution_count": null,
   "metadata": {},
   "outputs": [],
   "source": [
    "apes = [\"Human\", \"Gorilla\", \"Chimpanzee\"]\n",
    "print(apes)\n",
    "apes.append(\"Macaco\") # this changes the apes list\n",
    "print(apes)"
   ]
  },
  {
   "cell_type": "markdown",
   "metadata": {},
   "source": [
    "Add **elements** to the end of the list:\n",
    "* Notice that the given input is a list"
   ]
  },
  {
   "cell_type": "code",
   "execution_count": null,
   "metadata": {},
   "outputs": [],
   "source": [
    "print(apes)\n",
    "apes.extend([\"Orangutan\", \"Gibbon\"])\n",
    "print(apes)"
   ]
  },
  {
   "cell_type": "markdown",
   "metadata": {},
   "source": [
    "Insert element at a given index:"
   ]
  },
  {
   "cell_type": "code",
   "execution_count": null,
   "metadata": {},
   "outputs": [],
   "source": [
    "print(apes)\n",
    "apes.insert(2, \"Kofiko\")\n",
    "print(apes)"
   ]
  },
  {
   "cell_type": "markdown",
   "metadata": {},
   "source": [
    "Remove element from list:"
   ]
  },
  {
   "cell_type": "code",
   "execution_count": null,
   "metadata": {},
   "outputs": [],
   "source": [
    "print(apes)\n",
    "apes.remove(\"Human\")\n",
    "print(apes)"
   ]
  },
  {
   "cell_type": "markdown",
   "metadata": {},
   "source": [
    "To remove a list item by index we can use the pop method which does 2 things:\n",
    "* returns the value in the given index\n",
    "* removes the given index from the list"
   ]
  },
  {
   "cell_type": "code",
   "execution_count": null,
   "metadata": {},
   "outputs": [],
   "source": [
    "print(apes)\n",
    "out_ape = apes.pop(3) \n",
    "# if we only want to remove index 3, we can skip the assignment \n",
    "#and just run the command\n",
    "\n",
    "print(out_ape)\n",
    "print(apes)"
   ]
  },
  {
   "cell_type": "markdown",
   "metadata": {},
   "source": [
    "We can concatenate lists, just like strings:"
   ]
  },
  {
   "cell_type": "code",
   "execution_count": null,
   "metadata": {},
   "outputs": [],
   "source": [
    "con_apes = apes + [\"Orangutan\", \"Baboon\"]\n",
    "print(apes)\n",
    "print(con_apes)"
   ]
  },
  {
   "cell_type": "markdown",
   "metadata": {},
   "source": [
    "![Organutan](http://upload.wikimedia.org/wikipedia/commons/thumb/b/be/Orang_Utan%2C_Semenggok_Forest_Reserve%2C_Sarawak%2C_Borneo%2C_Malaysia.JPG/220px-Orang_Utan%2C_Semenggok_Forest_Reserve%2C_Sarawak%2C_Borneo%2C_Malaysia.JPG)\n",
    "\n",
    "Searching in lists is done using `index` (not `find`):"
   ]
  },
  {
   "cell_type": "code",
   "execution_count": null,
   "metadata": {},
   "outputs": [],
   "source": [
    "i = apes.index('Kofiko')\n",
    "print(i)\n",
    "print(apes[i])"
   ]
  },
  {
   "cell_type": "markdown",
   "metadata": {},
   "source": [
    "If the value is not found an error is raised. We'll learn how to deal with exceptions in another session. \n",
    "\n",
    "For now, we can just find it with a loop, which we will learn in a few minutes."
   ]
  },
  {
   "cell_type": "markdown",
   "metadata": {},
   "source": [
    "You can also check if something is in a list (works as well for strings):"
   ]
  },
  {
   "cell_type": "code",
   "execution_count": null,
   "metadata": {},
   "outputs": [],
   "source": [
    "if 'Panda' in apes:\n",
    "    print('Panda is an ape')\n",
    "else:\n",
    "    print('Panda is not an ape')"
   ]
  },
  {
   "cell_type": "code",
   "execution_count": null,
   "metadata": {},
   "outputs": [],
   "source": [
    "print('N' in 'DNA')\n",
    "print('B' in 'DNA')\n",
    "\n",
    "print('DN' in 'DNA')\n",
    "\n",
    "print(1 in [1,2,3])"
   ]
  },
  {
   "cell_type": "markdown",
   "metadata": {},
   "source": [
    "## Lists of numbers\n",
    "\n",
    "Suppose we have a list of experimental measurements and we want to do basic statistics: \n",
    "\n",
    "count the number of results, calculate the average, and find the maximum and minimum."
   ]
  },
  {
   "cell_type": "code",
   "execution_count": null,
   "metadata": {},
   "outputs": [],
   "source": [
    "measurements = [33,55,45,87,88,95,34,76,87,56,45,98,87,89,45,67,45,67,76,73,33,87,12,100,77,89,92]\n",
    "\n",
    "count = len(measurements)\n",
    "avg = sum(measurements) / len(measurements)\n",
    "maximum = max(measurements)\n",
    "minimum = min(measurements)\n",
    "\n",
    "print(count, \"measurements with average\", avg, \"maximum\", maximum, \"minimum\", minimum)"
   ]
  },
  {
   "cell_type": "markdown",
   "metadata": {},
   "source": [
    "We'll see a better way to work with sequences of numbers, though, using NumPy."
   ]
  },
  {
   "cell_type": "markdown",
   "metadata": {},
   "source": [
    "## Sorting lists\n",
    "  \n",
    "We can sort lists using the `sorted` method.  \n",
    "If the list is made __entirely__ of numbers, then sorting is straightforward:"
   ]
  },
  {
   "cell_type": "code",
   "execution_count": null,
   "metadata": {},
   "outputs": [],
   "source": [
    "sorted_measurements = sorted(measurements)\n",
    "print(measurements)\n",
    "print()\n",
    "print(sorted_measurements)"
   ]
  },
  {
   "cell_type": "markdown",
   "metadata": {},
   "source": [
    "A list of strings will be sorted lexicographically (think about the way '<' and '>' work on strings):"
   ]
  },
  {
   "cell_type": "code",
   "execution_count": null,
   "metadata": {},
   "outputs": [],
   "source": [
    "sorted_apes = sorted(apes)\n",
    "print(sorted_apes)"
   ]
  },
  {
   "cell_type": "markdown",
   "metadata": {},
   "source": [
    "But beware of mixed lists!"
   ]
  },
  {
   "cell_type": "code",
   "execution_count": null,
   "metadata": {},
   "outputs": [],
   "source": [
    "mixed = apes + measurements\n",
    "print(mixed)\n",
    "print(sorted(mixed))"
   ]
  },
  {
   "cell_type": "markdown",
   "metadata": {},
   "source": [
    "## List of lists (nested lists)\n",
    "  \n",
    "List elements can be of any type, including lists!  \n",
    "For example:"
   ]
  },
  {
   "cell_type": "code",
   "execution_count": null,
   "metadata": {},
   "outputs": [],
   "source": [
    "birds = ['Gallus gallus', 'Corvus corone', 'Passer domesticus']\n",
    "snakes = ['Ophiophagus hannah', 'Vipera palaestinae', 'Python bivittatus']\n",
    "animals = [apes, birds, snakes]\n",
    "print(animals)"
   ]
  },
  {
   "cell_type": "code",
   "execution_count": null,
   "metadata": {},
   "outputs": [],
   "source": [
    "len(animals)"
   ]
  },
  {
   "cell_type": "markdown",
   "metadata": {},
   "source": [
    "We access lists of lists using double-indexes. For example, to get the 3rd snake:"
   ]
  },
  {
   "cell_type": "code",
   "execution_count": null,
   "metadata": {},
   "outputs": [],
   "source": [
    "print(animals[2][2])"
   ]
  },
  {
   "cell_type": "markdown",
   "metadata": {},
   "source": [
    "Note that the elements of the outer list are __lists__ themselves, not strings. For example:"
   ]
  },
  {
   "cell_type": "code",
   "execution_count": null,
   "metadata": {},
   "outputs": [],
   "source": [
    "type(animals[1])"
   ]
  },
  {
   "cell_type": "markdown",
   "metadata": {},
   "source": [
    "## Slicing\n",
    "  \n",
    "We can slice lists just like we did with strings, to get partial lists.  \n",
    "For example:"
   ]
  },
  {
   "cell_type": "code",
   "execution_count": null,
   "metadata": {},
   "outputs": [],
   "source": [
    "# get the first 10 measurements\n",
    "print(measurements[:10])\n",
    "# get the last 3 measurements\n",
    "print(measurements[-3:])"
   ]
  },
  {
   "cell_type": "markdown",
   "metadata": {},
   "source": [
    "## Exercise: birds and snakes\n",
    "\n",
    "- Use the lists `birds` and `snakes` to create a single list of strings with the animal names. \n",
    "- Add the string `Mus musculus` to the list. \n",
    "- Remove the `Corvus corone` from the list. \n",
    "- Print the 2nd to 5th elements of the resulting list, sorted alphabetically."
   ]
  },
  {
   "cell_type": "code",
   "execution_count": null,
   "metadata": {},
   "outputs": [],
   "source": [
    "birds = ['Gallus gallus', 'Corvus corone', 'Passer domesticus']\n",
    "snakes = ['Ophiophagus hannah', 'Vipera palaestinae', 'Python bivittatus']"
   ]
  },
  {
   "cell_type": "code",
   "execution_count": null,
   "metadata": {},
   "outputs": [],
   "source": [
    "# write code here:"
   ]
  },
  {
   "cell_type": "markdown",
   "metadata": {},
   "source": [
    "# `for` loops\n",
    "\n",
    "![Python loop](http://2.bp.blogspot.com/-7lXe1_Gou3k/UX92PWche3I/AAAAAAAAAFA/JxD4u8St-9g/s1600/python+loop.jpg)\n",
    "\n",
    "\n",
    "#### Say we want to print each element of our list:"
   ]
  },
  {
   "cell_type": "markdown",
   "metadata": {},
   "source": [
    "Python’s `for` loop syntax allows us to iterate over the elements of a `list`, or any `iterable` value. \n",
    "\n",
    "```py\n",
    "for loop_variable in iterable:\n",
    "    statement1\n",
    "    statement2\n",
    "    statement3\n",
    "    ...\n",
    "```"
   ]
  },
  {
   "cell_type": "code",
   "execution_count": null,
   "metadata": {},
   "outputs": [],
   "source": [
    "for ape in apes:\n",
    "    print(ape, \"is an ape\")"
   ]
  },
  {
   "cell_type": "markdown",
   "metadata": {},
   "source": [
    "A more complex loop will go over each ape name and print some stats:"
   ]
  },
  {
   "cell_type": "code",
   "execution_count": null,
   "metadata": {},
   "outputs": [],
   "source": [
    "for ape in apes:\n",
    "    name_length = len(ape)\n",
    "    first_letter = ape[0]\n",
    "    print(ape, \"is an ape. Its name starts with\", first_letter, end = '. ')\n",
    "    print(\"Its name has\", name_length, \"letters\")\n",
    "\n",
    "print('processing finished...')"
   ]
  },
  {
   "cell_type": "markdown",
   "metadata": {},
   "source": [
    "### String loop"
   ]
  },
  {
   "cell_type": "code",
   "execution_count": null,
   "metadata": {},
   "outputs": [],
   "source": [
    "for letter in 'ACGT':\n",
    "    print(letter)"
   ]
  },
  {
   "cell_type": "markdown",
   "metadata": {},
   "source": [
    "Let's go over the Insulin AA sequnce and count the number of prolines manualy. Reminder: `insulin` is a `str`, not `list`."
   ]
  },
  {
   "cell_type": "code",
   "execution_count": null,
   "metadata": {},
   "outputs": [],
   "source": [
    "count = 0\n",
    "for aa in insulin:\n",
    "    if aa == \"P\": \n",
    "        count += 1\n",
    "    # alternative option: \n",
    "    #   count += aa == \"P\"\n",
    "print(\"# of prolines:\", count)"
   ]
  },
  {
   "cell_type": "markdown",
   "metadata": {},
   "source": [
    "Note that you can perform arithmatics with booleans"
   ]
  },
  {
   "cell_type": "code",
   "execution_count": null,
   "metadata": {},
   "outputs": [],
   "source": [
    "print(0+True)\n",
    "print(True+True)\n",
    "print(True+False)"
   ]
  },
  {
   "cell_type": "markdown",
   "metadata": {},
   "source": [
    "Do you remember another way of doing this?\n",
    "\n",
    "Let's count how many measurements (see above) are above the average:"
   ]
  },
  {
   "cell_type": "code",
   "execution_count": null,
   "metadata": {},
   "outputs": [],
   "source": [
    "print(measurements)\n",
    "print(avg)"
   ]
  },
  {
   "cell_type": "code",
   "execution_count": null,
   "metadata": {},
   "outputs": [],
   "source": [
    "over = 0\n",
    "for x in measurements:\n",
    "    over += x > avg\n",
    "    # or more implicit:\n",
    "    # if x > avg:\n",
    "    #     over += 1\n",
    "print(over, \"measurements are over the average.\")"
   ]
  },
  {
   "cell_type": "markdown",
   "metadata": {},
   "source": [
    "## Exercise: insulin"
   ]
  },
  {
   "cell_type": "markdown",
   "metadata": {},
   "source": [
    "Complete the code below to count the _ratio_ of electrically-charged amino acids in the Insulin sequence."
   ]
  },
  {
   "cell_type": "code",
   "execution_count": null,
   "metadata": {},
   "outputs": [],
   "source": [
    "charged = ['R','H','K','D','E']\n",
    "insulin = 'MALWMRLLPLLALLALWGPDPAAAFVNQHLCGSHLVEALYLVCGERGFFYTPKTRREAEDLQVGQVELGGGPGAGSLQPLALEGSLQKRGIVEQCCTSICSLYQLENYCN'\n",
    "\n",
    "# Your code here\n",
    "\n",
    "################\n",
    "print(\"Ratio of charged amino acids is:\", charged_ratio)"
   ]
  },
  {
   "cell_type": "markdown",
   "metadata": {},
   "source": [
    "# `range`\n",
    "\n",
    "Sometimes we want to loop over consecutive numbers.\n",
    "\n",
    "This is accomplished using the `range` function.\n",
    "\n",
    "`range` accepts one, two, or three arguments: the bottom and upper limits and the step size.  \n",
    "The bottom limit can be omitted - the default is zero - and the step can be omitted, too - the default is one.\n",
    "The upper limit is __not__ included.\n",
    "\n",
    "This is simillar to slicing, but instead of `:` we use `,`"
   ]
  },
  {
   "cell_type": "code",
   "execution_count": null,
   "metadata": {},
   "outputs": [],
   "source": [
    "for i in range(10): # == range(0, 10, 1)\n",
    "    print(i)"
   ]
  },
  {
   "cell_type": "code",
   "execution_count": null,
   "metadata": {},
   "outputs": [],
   "source": [
    "for i in range(10, 20):\n",
    "    print(i, end=' ')    # print ends with space instead of newline"
   ]
  },
  {
   "cell_type": "code",
   "execution_count": null,
   "metadata": {},
   "outputs": [],
   "source": [
    "for i in range(100, 1000, 10):\n",
    "    print(i, end=' ')"
   ]
  },
  {
   "cell_type": "markdown",
   "metadata": {},
   "source": [
    "We can turn the range into a list:"
   ]
  },
  {
   "cell_type": "code",
   "execution_count": null,
   "metadata": {},
   "outputs": [],
   "source": [
    "list(range(10))"
   ]
  },
  {
   "cell_type": "markdown",
   "metadata": {},
   "source": [
    "We can also use `range()` to loop on the indices of a list instead of the elements themselves. This is useful in some cases."
   ]
  },
  {
   "cell_type": "code",
   "execution_count": null,
   "metadata": {},
   "outputs": [],
   "source": [
    "for i in range(len(apes)):\n",
    "    print(apes[i])\n",
    "print()\n",
    "for elem in apes:\n",
    "    print(elem)"
   ]
  },
  {
   "cell_type": "markdown",
   "metadata": {},
   "source": [
    "If for example we want to iterate over a string and print each triplet of characters.\n",
    "```py\n",
    "seq = 'ATGCCAGATTCAGCT'\n",
    "output:\n",
    "ATG\n",
    "CCA\n",
    "GAT\n",
    "TCA\n",
    "GCT\n",
    "```\n",
    "\n",
    "```py\n",
    "seq = 'ATGCCAGATTCAGCT'\n",
    "for elem in seq:\n",
    "    print(elem....?)\n",
    "```\n",
    "We cannot do so (easily) by iterating over the `seq`.\n",
    "\n",
    "Instead we will iterate over the list indices:"
   ]
  },
  {
   "cell_type": "code",
   "execution_count": null,
   "metadata": {},
   "outputs": [],
   "source": [
    "seq = 'ATGCCAGATTCAGCT'\n",
    "list(range(0, len(seq), 3))"
   ]
  },
  {
   "cell_type": "code",
   "execution_count": null,
   "metadata": {},
   "outputs": [],
   "source": [
    "seq = 'ATGCCAGATTCAGCT'\n",
    "for i in range(0, len(seq), 3):\n",
    "    print(seq[i : i+3])"
   ]
  },
  {
   "cell_type": "markdown",
   "metadata": {},
   "source": [
    "### Example: Bin2Dec\n",
    "\n",
    "Let's convert a binary string to a decimal number."
   ]
  },
  {
   "cell_type": "code",
   "execution_count": null,
   "metadata": {},
   "outputs": [],
   "source": [
    "binary = \"1010\"\n",
    "n = len(binary)\n",
    "decimal = 0\n",
    "\n",
    "for i in range(n):\n",
    "    if binary[-i-1] == \"1\":\n",
    "        decimal += 2**(i)\n",
    "print(decimal)"
   ]
  },
  {
   "cell_type": "markdown",
   "metadata": {},
   "source": [
    "#### Set even elements in a given list to zero:"
   ]
  },
  {
   "cell_type": "code",
   "execution_count": null,
   "metadata": {},
   "outputs": [],
   "source": [
    "lst = [1, 4, 3,  6, 8]\n",
    "for elem in lst:\n",
    "    if elem % 2 == 0:\n",
    "        elem = 0\n",
    "print(lst)"
   ]
  },
  {
   "cell_type": "markdown",
   "metadata": {},
   "source": [
    "The variable `elem` was changed, but not `lst`!"
   ]
  },
  {
   "cell_type": "code",
   "execution_count": null,
   "metadata": {},
   "outputs": [],
   "source": [
    "print(lst)\n",
    "for i in range(len(lst)):\n",
    "    if lst[i] % 2 == 0:\n",
    "        lst[i] = 0\n",
    "print(lst)"
   ]
  },
  {
   "cell_type": "markdown",
   "metadata": {},
   "source": [
    "## `enumerate`\n",
    "\n",
    "Another elegant way to iterate over lists is with the `enumerate` function. `enumerate` provides two loop variables for every item in the list -- the index and the element:"
   ]
  },
  {
   "cell_type": "code",
   "execution_count": null,
   "metadata": {},
   "outputs": [],
   "source": [
    "cities = ['Tel-Aviv', 'Jerusalem', 'Haifa', 'Rehovot']\n",
    "for i, city in enumerate(cities):\n",
    "    print(\"The\", i, \"city is\", city)"
   ]
  },
  {
   "cell_type": "markdown",
   "metadata": {},
   "source": [
    "# Tuples\n",
    "\n",
    "[Tuples](https://docs.python.org/3.5/tutorial/datastructures.html#tuples-and-sequences) are another data structure for sequential data. They, too, can contain any type and mixed types. The main difference between tuples and lists is that tuples are **immutable**.\n",
    "\n",
    "Tuples are denoted by round brackets `()`:"
   ]
  },
  {
   "cell_type": "code",
   "execution_count": null,
   "metadata": {},
   "outputs": [],
   "source": [
    "t = (15, 76, 'a')\n",
    "print(t)\n",
    "type(t)"
   ]
  },
  {
   "cell_type": "markdown",
   "metadata": {},
   "source": [
    "Tuples are commonly packed and unpacked in Python:"
   ]
  },
  {
   "cell_type": "code",
   "execution_count": null,
   "metadata": {},
   "outputs": [],
   "source": [
    "a, b, c = t # unpacking\n",
    "print('a:', a, 'b:', b, 'c:', c)\n",
    "t = a, b # packing\n",
    "print(t)"
   ]
  },
  {
   "cell_type": "markdown",
   "metadata": {},
   "source": [
    "You can also create empty and singleton tuples:"
   ]
  },
  {
   "cell_type": "code",
   "execution_count": null,
   "metadata": {},
   "outputs": [],
   "source": [
    "t0 = ()\n",
    "type(t0)"
   ]
  },
  {
   "cell_type": "code",
   "execution_count": null,
   "metadata": {},
   "outputs": [],
   "source": [
    "t1 = (5,) # notice the comma\n",
    "type(t1)"
   ]
  },
  {
   "cell_type": "code",
   "execution_count": null,
   "metadata": {},
   "outputs": [],
   "source": [
    "t2 = (5)\n",
    "print(t2, type(t2))"
   ]
  },
  {
   "cell_type": "markdown",
   "metadata": {},
   "source": [
    "# Solutions"
   ]
  },
  {
   "cell_type": "markdown",
   "metadata": {},
   "source": [
    "## Solution: bottles of beer"
   ]
  },
  {
   "cell_type": "code",
   "execution_count": null,
   "metadata": {},
   "outputs": [],
   "source": [
    "template = \"\"\"{0} bottles of beer on the wall, {0} bottles of beer.\n",
    "Take one down, pass it around, {1} bottles of beer on the wall...\"\"\"\n",
    "\n",
    "print(template.format(3, 2))\n",
    "print(template.format(2, 1))\n",
    "print(template.format(1, 0))"
   ]
  },
  {
   "cell_type": "markdown",
   "metadata": {},
   "source": [
    "## Solution: birds and snakes"
   ]
  },
  {
   "cell_type": "code",
   "execution_count": null,
   "metadata": {},
   "outputs": [],
   "source": [
    "animals = birds + snakes\n",
    "animals.append('Mus musculus')\n",
    "animals.remove('Corvus corone')\n",
    "print(sorted(animals[1:5]))"
   ]
  },
  {
   "cell_type": "markdown",
   "metadata": {},
   "source": [
    "## Solution: insulin"
   ]
  },
  {
   "cell_type": "code",
   "execution_count": null,
   "metadata": {},
   "outputs": [],
   "source": [
    "charged = ['R','H','K','D','E']\n",
    "insulin = 'MALWMRLLPLLALLALWGPDPAAAFVNQHLCGSHLVEALYLVCGERGFFYTPKTRREAEDLQVGQVELGGGPGAGSLQPLALEGSLQKRGIVEQCCTSICSLYQLENYCN'\n",
    "\n",
    "charged_count = 0\n",
    "for c in charged:\n",
    "    charged_count += insulin.count(c)\n",
    "charged_ratio = charged_count / len(insulin)\n",
    "\n",
    "print(\"Ratio of charged amino acids is:\", charged_ratio)"
   ]
  },
  {
   "cell_type": "markdown",
   "metadata": {},
   "source": [
    "## Colophon\n",
    "This notebook was written by [Yoav Ram](http://python.yoavram.com).\n",
    "\n",
    "The notebook was written using [Python](http://python.org/) 3.7.\n",
    "Dependencies listed in [environment.yml](../environment.yml).\n",
    "\n",
    "This work is licensed under a CC BY-NC-SA 4.0 International License.\n",
    "\n",
    "![Python logo](https://www.python.org/static/community_logos/python-logo.png)"
   ]
  }
 ],
 "metadata": {
  "kernelspec": {
   "display_name": "Python 3",
   "language": "python",
   "name": "python3"
  },
  "language_info": {
   "codemirror_mode": {
    "name": "ipython",
    "version": 3
   },
   "file_extension": ".py",
   "mimetype": "text/x-python",
   "name": "python",
   "nbconvert_exporter": "python",
   "pygments_lexer": "ipython3",
   "version": "3.8.8"
  }
 },
 "nbformat": 4,
 "nbformat_minor": 4
}
