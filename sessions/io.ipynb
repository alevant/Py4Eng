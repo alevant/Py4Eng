{
 "cells": [
  {
   "cell_type": "markdown",
   "metadata": {},
   "source": [
    "![Py4Eng](img/logo.png)\n",
    "\n",
    "# I/O: input, files, filesystem"
   ]
  },
  {
   "cell_type": "markdown",
   "metadata": {},
   "source": [
    "# User prompt\n",
    "\n",
    "The `input` function is useful to get string prompt from the user. It works in the notebook, as well as when running scripts in the console."
   ]
  },
  {
   "cell_type": "code",
   "execution_count": 1,
   "metadata": {},
   "outputs": [
    {
     "name": "stdout",
     "output_type": "stream",
     "text": [
      "What's your name?\n",
      "Ohad\n",
      "Hi Ohad\n"
     ]
    }
   ],
   "source": [
    "name = input(\"What's your name?\\n\")\n",
    "\n",
    "print(\"Hi\", name)"
   ]
  },
  {
   "cell_type": "code",
   "execution_count": 2,
   "metadata": {},
   "outputs": [
    {
     "name": "stdout",
     "output_type": "stream",
     "text": [
      "How many icecreams would you like?3\n",
      "How much does an icecream cost?15.5\n"
     ]
    },
    {
     "ename": "TypeError",
     "evalue": "can't multiply sequence by non-int of type 'str'",
     "output_type": "error",
     "traceback": [
      "\u001b[1;31m---------------------------------------------------------------------------\u001b[0m",
      "\u001b[1;31mTypeError\u001b[0m                                 Traceback (most recent call last)",
      "\u001b[1;32m<ipython-input-2-6fdf5c934317>\u001b[0m in \u001b[0;36m<module>\u001b[1;34m\u001b[0m\n\u001b[0;32m      1\u001b[0m \u001b[0mn_icecreams\u001b[0m \u001b[1;33m=\u001b[0m \u001b[0minput\u001b[0m\u001b[1;33m(\u001b[0m\u001b[1;34m\"How many icecreams would you like?\"\u001b[0m\u001b[1;33m)\u001b[0m\u001b[1;33m\u001b[0m\u001b[1;33m\u001b[0m\u001b[0m\n\u001b[0;32m      2\u001b[0m \u001b[0mprice\u001b[0m \u001b[1;33m=\u001b[0m \u001b[0minput\u001b[0m\u001b[1;33m(\u001b[0m\u001b[1;34m\"How much does an icecream cost?\"\u001b[0m\u001b[1;33m)\u001b[0m\u001b[1;33m\u001b[0m\u001b[1;33m\u001b[0m\u001b[0m\n\u001b[1;32m----> 3\u001b[1;33m \u001b[0mprint\u001b[0m\u001b[1;33m(\u001b[0m\u001b[1;34m\"That would be\"\u001b[0m\u001b[1;33m,\u001b[0m \u001b[0mprice\u001b[0m \u001b[1;33m*\u001b[0m \u001b[0mn_icecreams\u001b[0m\u001b[1;33m)\u001b[0m\u001b[1;33m\u001b[0m\u001b[1;33m\u001b[0m\u001b[0m\n\u001b[0m",
      "\u001b[1;31mTypeError\u001b[0m: can't multiply sequence by non-int of type 'str'"
     ]
    }
   ],
   "source": [
    "n_icecreams = input(\"How many icecreams would you like? \")\n",
    "price = input(\"How much does an icecream cost? \")\n",
    "print(\"That would be\", price * n_icecreams)"
   ]
  },
  {
   "cell_type": "markdown",
   "metadata": {},
   "source": [
    "`input` returns strings. \n",
    "\n",
    "It is the program's responsibility to convert the string to the desired type:"
   ]
  },
  {
   "cell_type": "code",
   "execution_count": 3,
   "metadata": {},
   "outputs": [
    {
     "name": "stdout",
     "output_type": "stream",
     "text": [
      "How many icecreams would you like?3\n",
      "How much does an icecream cost?15.5\n",
      "That would be 46.5\n"
     ]
    }
   ],
   "source": [
    "n_icecreams = int(input(\"How many icecreams would you like? \"))\n",
    "price = float(input(\"How much does an icecream cost? \"))\n",
    "print(\"That would be\", price * n_icecreams)"
   ]
  },
  {
   "cell_type": "markdown",
   "metadata": {},
   "source": [
    "But what if we give an invalid input?\n",
    "\n",
    "Try inserting 2 and 'a'"
   ]
  },
  {
   "cell_type": "code",
   "execution_count": 5,
   "metadata": {},
   "outputs": [
    {
     "name": "stdout",
     "output_type": "stream",
     "text": [
      "How many icecreams would you like? 2\n",
      "How much does an icecream cost? a\n"
     ]
    },
    {
     "ename": "ValueError",
     "evalue": "could not convert string to float: 'a'",
     "output_type": "error",
     "traceback": [
      "\u001b[1;31m---------------------------------------------------------------------------\u001b[0m",
      "\u001b[1;31mValueError\u001b[0m                                Traceback (most recent call last)",
      "\u001b[1;32m<ipython-input-5-734925d23e22>\u001b[0m in \u001b[0;36m<module>\u001b[1;34m\u001b[0m\n\u001b[0;32m      1\u001b[0m \u001b[0mn_icecreams\u001b[0m \u001b[1;33m=\u001b[0m \u001b[0mint\u001b[0m\u001b[1;33m(\u001b[0m\u001b[0minput\u001b[0m\u001b[1;33m(\u001b[0m\u001b[1;34m\"How many icecreams would you like? \"\u001b[0m\u001b[1;33m)\u001b[0m\u001b[1;33m)\u001b[0m\u001b[1;33m\u001b[0m\u001b[1;33m\u001b[0m\u001b[0m\n\u001b[1;32m----> 2\u001b[1;33m \u001b[0mprice\u001b[0m \u001b[1;33m=\u001b[0m \u001b[0mfloat\u001b[0m\u001b[1;33m(\u001b[0m\u001b[0minput\u001b[0m\u001b[1;33m(\u001b[0m\u001b[1;34m\"How much does an icecream cost? \"\u001b[0m\u001b[1;33m)\u001b[0m\u001b[1;33m)\u001b[0m\u001b[1;33m\u001b[0m\u001b[1;33m\u001b[0m\u001b[0m\n\u001b[0m\u001b[0;32m      3\u001b[0m \u001b[0mprint\u001b[0m\u001b[1;33m(\u001b[0m\u001b[1;34m\"That would be\"\u001b[0m\u001b[1;33m,\u001b[0m \u001b[0mprice\u001b[0m \u001b[1;33m*\u001b[0m \u001b[0mn_icecreams\u001b[0m\u001b[1;33m)\u001b[0m\u001b[1;33m\u001b[0m\u001b[1;33m\u001b[0m\u001b[0m\n",
      "\u001b[1;31mValueError\u001b[0m: could not convert string to float: 'a'"
     ]
    }
   ],
   "source": [
    "n_icecreams = int(input(\"How many icecreams would you like? \"))\n",
    "price = float(input(\"How much does an icecream cost? \"))\n",
    "print(\"That would be\", price * n_icecreams)"
   ]
  },
  {
   "cell_type": "markdown",
   "metadata": {},
   "source": [
    "## Exercise: pick a number\n",
    "\n",
    "Ask the user to pick a number between 1 and 10; if the number is not within that range, let him know and ask him again."
   ]
  },
  {
   "cell_type": "code",
   "execution_count": null,
   "metadata": {},
   "outputs": [],
   "source": []
  },
  {
   "cell_type": "markdown",
   "metadata": {},
   "source": [
    "# Files\n",
    "\n",
    "We'll start with simple text files and proceed to more complex formats.  \n",
    "Let's read the list of crop plants located in `data/crops.txt` or you can download it from [GitHub](https://github.com/yoavram/Py4Eng/blob/master/data/crops.txt).\n",
    "\n",
    "## Reading files\n",
    "\n",
    "Whenever we want to work with a file, we first need to _open_ it using the `open` function.  \n",
    "This function returns an IO object which we can then use for reading or writing."
   ]
  },
  {
   "cell_type": "code",
   "execution_count": 6,
   "metadata": {},
   "outputs": [
    {
     "name": "stdout",
     "output_type": "stream",
     "text": [
      "<class '_io.TextIOWrapper'>\n"
     ]
    }
   ],
   "source": [
    "f = open(r'..\\data\\crops.txt', 'r') # using relative path (relative to the code-file location)\n",
    "print(type(f))"
   ]
  },
  {
   "cell_type": "code",
   "execution_count": 7,
   "metadata": {
    "scrolled": true
   },
   "outputs": [
    {
     "name": "stdout",
     "output_type": "stream",
     "text": [
      "Abelmoschus caillei\n",
      "Abelmoschus esculentus\n",
      "Acacia mearnsii\n",
      "Acacia senegal\n",
      "Acacia seyal\n",
      "Acca sellowia\n"
     ]
    }
   ],
   "source": [
    "crops = f.read()\n",
    "f.close()\n",
    "print(crops[:100])"
   ]
  },
  {
   "cell_type": "markdown",
   "metadata": {},
   "source": [
    "The `open` function receives two parameters: \n",
    "\n",
    "- the path to the file you want to open.\n",
    "- the mode of opening: `r` for reading, `w` for writing, `a` for appending.\n",
    "\n",
    "`read` returns *all* the text from the file as a string. \n",
    "\n",
    "`close` then closes the file handle.\n",
    "#### __important - not to forget to close a file object__\n",
    "\n",
    "A more idiomatic way to do this, in which Python takes care of closing the file, is using a [context manager](https://docs.python.org/3/reference/datamodel.html#with-statement-context-managers):"
   ]
  },
  {
   "cell_type": "code",
   "execution_count": 8,
   "metadata": {},
   "outputs": [
    {
     "name": "stdout",
     "output_type": "stream",
     "text": [
      "Abelmoschus caillei\n",
      "Abelmoschus esculentus\n",
      "Acacia mearnsii\n",
      "Acacia senegal\n",
      "Acacia seyal\n",
      "Acca sellowia\n"
     ]
    }
   ],
   "source": [
    "with open('../data/crops.txt','r') as f:\n",
    "    crops = f.read()\n",
    "print(crops[:100])"
   ]
  },
  {
   "cell_type": "markdown",
   "metadata": {},
   "source": [
    "This idiom uses a [context manager](https://docs.python.org/3.5/library/stdtypes.html?highlight=context%20manager), and the file handle `f` is closed when the context manager block ends, even if it ends due to an error."
   ]
  },
  {
   "cell_type": "markdown",
   "metadata": {},
   "source": [
    "## Iterating over files\n",
    "\n",
    "### Using a __for__ loop\n",
    "\n",
    "We can simply use a _for_ loop to go over all lines in a text file. \n",
    "This is the _best practice_, and also very simple to use:"
   ]
  },
  {
   "cell_type": "code",
   "execution_count": 9,
   "metadata": {},
   "outputs": [
    {
     "name": "stdout",
     "output_type": "stream",
     "text": [
      "Musa balbisiana\n",
      "\n",
      "Musa spp.\n",
      "\n",
      "Musa textilis\n",
      "\n"
     ]
    }
   ],
   "source": [
    "with open('../data/crops.txt','r') as f: \n",
    "    for line in f:\n",
    "        if line.startswith('Musa'):   # check if line starts with a given string\n",
    "            print(line)"
   ]
  },
  {
   "cell_type": "markdown",
   "metadata": {},
   "source": [
    "The double-line spaces is due to that fact the each line from the text ends with a new-line character `\\n`, and also the print command.\n",
    "\n",
    "We can clean such characters using `strip` command"
   ]
  },
  {
   "cell_type": "code",
   "execution_count": 10,
   "metadata": {},
   "outputs": [
    {
     "name": "stdout",
     "output_type": "stream",
     "text": [
      "Musa balbisiana\n",
      "Musa spp.\n",
      "Musa textilis\n"
     ]
    }
   ],
   "source": [
    "with open('../data/crops.txt','r') as f:\n",
    "    for line in f:\n",
    "        if line.startswith('Musa'):   # check if line starts with a given string\n",
    "            print(line.strip())       # strip removes the newline character from the end of the line"
   ]
  },
  {
   "cell_type": "markdown",
   "metadata": {},
   "source": [
    "### Reading line by line with __readline__\n",
    "\n",
    "The `readline()` method allows us to read a single line each time. \n",
    "It works well when combined with a `while` loop, giving us control of the program flow."
   ]
  },
  {
   "cell_type": "code",
   "execution_count": 11,
   "metadata": {},
   "outputs": [
    {
     "name": "stdout",
     "output_type": "stream",
     "text": [
      "Abelmoschus caillei\n",
      "Triticum aestivum\n",
      "Triticum dicoccum\n",
      "Triticum durum\n",
      "Triticum monococcum\n",
      "Triticum spelta\n",
      "Triticum turanicum\n"
     ]
    }
   ],
   "source": [
    "with open('../data/crops.txt','r') as f:\n",
    "    line = f.readline().strip()    # read first line\n",
    "    print(line)\n",
    "    while line:\n",
    "        line = f.readline().strip()\n",
    "        if line.startswith('Triticum'):\n",
    "            print(line)        "
   ]
  },
  {
   "cell_type": "markdown",
   "metadata": {},
   "source": [
    "There are other methods you can use to read files. For example, the `readlines()` returns all the lines as a list of strings."
   ]
  },
  {
   "cell_type": "code",
   "execution_count": 12,
   "metadata": {},
   "outputs": [
    {
     "name": "stdout",
     "output_type": "stream",
     "text": [
      "['Abelmoschus caillei\\n', 'Abelmoschus esculentus\\n', 'Acacia mearnsii\\n', 'Acacia senegal\\n', 'Acacia seyal\\n']\n"
     ]
    }
   ],
   "source": [
    "with open('../data/crops.txt','r') as f:\n",
    "    lines = f.readlines()\n",
    "print(lines[:5])"
   ]
  },
  {
   "cell_type": "markdown",
   "metadata": {},
   "source": [
    "## Exercise: file iteration"
   ]
  },
  {
   "cell_type": "markdown",
   "metadata": {},
   "source": [
    "1) Print the last line in the file. \n",
    "\n",
    "2) Find out how many _Garcinia_ species are in the file (use the `startswith()` string method)."
   ]
  },
  {
   "cell_type": "code",
   "execution_count": null,
   "metadata": {},
   "outputs": [],
   "source": []
  },
  {
   "cell_type": "code",
   "execution_count": null,
   "metadata": {},
   "outputs": [],
   "source": []
  },
  {
   "cell_type": "markdown",
   "metadata": {},
   "source": [
    "## Writing to a file\n",
    "\n",
    "To write to a file, we first have to open it for writing. This is done using one of two modes: 'w' or 'a'.\n",
    "\n",
    "'w', for write, will let you write into the file. If it doesn't exist, it'll be automatically created. \n",
    "#### NOTE: __If the file exists and already has some content, the content will be overwritten.__\n",
    "\n",
    "'a', for append, is very similar, only it will not overwrite, but append your text to the end of an existing file. \n",
    "\n",
    "Writing is done using `print()` by adding the argument `file = <file object>`."
   ]
  },
  {
   "cell_type": "code",
   "execution_count": 13,
   "metadata": {},
   "outputs": [],
   "source": [
    "with open(r'tmp.txt','w') as f:\n",
    "    print('This is the first line', file=f)\n",
    "    line = 'Another line'\n",
    "    print(line, file=f)\n",
    "    msg1 = 'Hello '\n",
    "    msg2 = 'World!'\n",
    "    print(msg1 + msg2, file=f)"
   ]
  },
  {
   "cell_type": "code",
   "execution_count": 14,
   "metadata": {},
   "outputs": [],
   "source": [
    "%less tmp.txt"
   ]
  },
  {
   "cell_type": "markdown",
   "metadata": {},
   "source": [
    "## Exercise: copy content\n",
    "\n",
    "Copy the `tmp.txt` file content to a new file `new.txt`. \n",
    "\n",
    "Copy the contents by reading from the existing file and writing to a new file (this is not the efficient way to do it, but it's just an exercise!). \n",
    "\n",
    "Don't forget to close the files and check that the writing was successful."
   ]
  },
  {
   "cell_type": "code",
   "execution_count": null,
   "metadata": {},
   "outputs": [],
   "source": []
  },
  {
   "cell_type": "markdown",
   "metadata": {},
   "source": [
    "# Filesystem\n",
    "\n",
    "Python offers plenty of ways to interact with the filesystem through the `os` and `os.path` modules.\n",
    "\n",
    "Let's import `os`:"
   ]
  },
  {
   "cell_type": "code",
   "execution_count": 15,
   "metadata": {},
   "outputs": [],
   "source": [
    "import os"
   ]
  },
  {
   "cell_type": "markdown",
   "metadata": {},
   "source": [
    "Showcase some of the capabilities of `os`:"
   ]
  },
  {
   "cell_type": "code",
   "execution_count": 16,
   "metadata": {},
   "outputs": [
    {
     "name": "stdout",
     "output_type": "stream",
     "text": [
      "['.ipynb_checkpoints', 'conda-env.ipynb', 'dictionaries.ipynb', 'exceptions.ipynb', 'functions.ipynb', 'if-while.ipynb', 'image-processing.ipynb', 'img', 'io.ipynb', 'iteration.ipynb', 'matplotlib.ipynb', 'memory-model.ipynb', 'modules.ipynb', 'numpy.ipynb', 'oop.ipynb', 'pandas-seaborn.ipynb', 'PCA.ipynb', 'scikit-learn.ipynb', 'strings-lists-loops.ipynb', 'tmp.txt', 'types-operators.ipynb']\n"
     ]
    }
   ],
   "source": [
    "files = os.listdir()\n",
    "print(files)"
   ]
  },
  {
   "cell_type": "code",
   "execution_count": 17,
   "metadata": {},
   "outputs": [
    {
     "name": "stdout",
     "output_type": "stream",
     "text": [
      ".ipynb_checkpoints is a folder\n",
      "conda-env.ipynb is a file with size 41617 bytes\n",
      "dictionaries.ipynb is a file with size 17922 bytes\n",
      "exceptions.ipynb is a file with size 15679 bytes\n",
      "functions.ipynb is a file with size 14730 bytes\n",
      "if-while.ipynb is a file with size 10876 bytes\n",
      "image-processing.ipynb is a file with size 4054976 bytes\n",
      "img is a folder\n",
      "io.ipynb is a file with size 22617 bytes\n",
      "iteration.ipynb is a file with size 41770 bytes\n",
      "matplotlib.ipynb is a file with size 16611 bytes\n",
      "memory-model.ipynb is a file with size 10860 bytes\n",
      "modules.ipynb is a file with size 11628 bytes\n",
      "numpy.ipynb is a file with size 42134 bytes\n",
      "oop.ipynb is a file with size 74287 bytes\n",
      "pandas-seaborn.ipynb is a file with size 31697 bytes\n",
      "PCA.ipynb is a file with size 7031253 bytes\n",
      "scikit-learn.ipynb is a file with size 5535218 bytes\n",
      "strings-lists-loops.ipynb is a file with size 41912 bytes\n",
      "tmp.txt is a file with size 52 bytes\n",
      "types-operators.ipynb is a file with size 20704 bytes\n"
     ]
    }
   ],
   "source": [
    "for fname in files:\n",
    "    if os.path.isdir(fname):\n",
    "        print(fname, \"is a folder\")\n",
    "    elif os.path.isfile(fname):\n",
    "        size = os.path.getsize(fname)\n",
    "        print(fname, \"is a file with size\", size, \"bytes\")"
   ]
  },
  {
   "cell_type": "markdown",
   "metadata": {},
   "source": [
    "Here's a combination of functions to get the current directory (`os.getcwd`), change the directory (`os.chdir`), check if a file exists (`os.path.exists`), and split a filename from its extension:"
   ]
  },
  {
   "cell_type": "code",
   "execution_count": 18,
   "metadata": {},
   "outputs": [
    {
     "name": "stdout",
     "output_type": "stream",
     "text": [
      "C:\\Users\\ohadle\\Dropbox\\Studies\\Teaching\\Python\\HiTechCourse\\Meprolight\\DataSciPy-landa\\sessions\n",
      "('C:\\\\Users\\\\ohadle\\\\Dropbox\\\\Studies\\\\Teaching\\\\Python\\\\HiTechCourse\\\\Meprolight\\\\DataSciPy-landa', 'sessions')\n",
      "crops.txt exists? True\n",
      "crops.csv exists? False\n"
     ]
    }
   ],
   "source": [
    "curdir = os.getcwd()\n",
    "print(curdir)\n",
    "print(os.path.split(curdir))\n",
    "os.chdir('../data')\n",
    "fname = 'crops.txt'\n",
    "print(fname, 'exists?', os.path.exists(fname))\n",
    "fname = os.path.splitext('crops.txt')[0] + '.csv'\n",
    "print(fname, 'exists?', os.path.exists(fname))\n",
    "os.chdir(curdir)"
   ]
  },
  {
   "cell_type": "markdown",
   "metadata": {},
   "source": [
    "See the [os](https://docs.python.org/3.5/library/os.html) and [os.path](https://docs.python.org/3.5/library/os.path.html#module-os.path) modules for more functions."
   ]
  },
  {
   "cell_type": "markdown",
   "metadata": {},
   "source": [
    "# Bonus: Serializing objects\n",
    "\n",
    "The `json` module allows to encode Python objects to text and decode them back again. It implements the [JSON](http://json.org/) (JavaScript Object Notation) format, a lightweight data interchange format inspired by JavaScript object literal syntax, and is therefore interoperable and widely used outside of the Python ecosystem. Also, the format is human-readable, which allows the developer to inspect the data from file without requiring him to deserialize the data.\n",
    "\n",
    "We start by importing the module and creating an example data dictionary:"
   ]
  },
  {
   "cell_type": "code",
   "execution_count": 19,
   "metadata": {},
   "outputs": [
    {
     "data": {
      "text/plain": [
       "{'a_string': 'Hello JSON',\n",
       " 'ints_in_a_tuple': (5, 6, 7, 2, 3, 5, 6),\n",
       " 'some_number': 5768.4454,\n",
       " 'list_as_well': [True, False, 'This', 'That']}"
      ]
     },
     "execution_count": 19,
     "metadata": {},
     "output_type": "execute_result"
    }
   ],
   "source": [
    "import json\n",
    "\n",
    "data = { \n",
    "    'a_string': 'Hello JSON', \n",
    "    'ints_in_a_tuple': (5, 6, 7, 2, 3, 5, 6), \n",
    "    'some_number': 5768.4454,\n",
    "    'list_as_well': [True, False, 'This', 'That']\n",
    "} \n",
    "data"
   ]
  },
  {
   "cell_type": "markdown",
   "metadata": {},
   "source": [
    "We **dump** the dictionary into a string:"
   ]
  },
  {
   "cell_type": "code",
   "execution_count": 20,
   "metadata": {},
   "outputs": [
    {
     "data": {
      "text/plain": [
       "'{\"a_string\": \"Hello JSON\", \"ints_in_a_tuple\": [5, 6, 7, 2, 3, 5, 6], \"some_number\": 5768.4454, \"list_as_well\": [true, false, \"This\", \"That\"]}'"
      ]
     },
     "execution_count": 20,
     "metadata": {},
     "output_type": "execute_result"
    }
   ],
   "source": [
    "data_string = json.dumps(data)\n",
    "data_string"
   ]
  },
  {
   "cell_type": "markdown",
   "metadata": {},
   "source": [
    "If we want to save this to a file, we can either write the string to a file or dump directly to a file:"
   ]
  },
  {
   "cell_type": "code",
   "execution_count": 21,
   "metadata": {},
   "outputs": [],
   "source": [
    "fname = 'json_example.json'\n",
    "\n",
    "with open(fname, 'w') as f:\n",
    "     json.dump(data, f)"
   ]
  },
  {
   "cell_type": "code",
   "execution_count": 22,
   "metadata": {},
   "outputs": [],
   "source": [
    "%less $fname"
   ]
  },
  {
   "cell_type": "code",
   "execution_count": 23,
   "metadata": {},
   "outputs": [],
   "source": [
    "with open(fname, 'r') as myfile:\n",
    "    data_str=myfile.read()\n",
    "    obj = json.loads(data_str)"
   ]
  },
  {
   "cell_type": "code",
   "execution_count": 25,
   "metadata": {},
   "outputs": [
    {
     "name": "stdout",
     "output_type": "stream",
     "text": [
      "<class 'dict'>\n"
     ]
    },
    {
     "data": {
      "text/plain": [
       "{'a_string': 'Hello JSON',\n",
       " 'ints_in_a_tuple': [5, 6, 7, 2, 3, 5, 6],\n",
       " 'some_number': 5768.4454,\n",
       " 'list_as_well': [True, False, 'This', 'That']}"
      ]
     },
     "execution_count": 25,
     "metadata": {},
     "output_type": "execute_result"
    }
   ],
   "source": [
    "print(type(obj))\n",
    "obj"
   ]
  },
  {
   "cell_type": "markdown",
   "metadata": {},
   "source": [
    "We can make the file more readable with some configuration:"
   ]
  },
  {
   "cell_type": "code",
   "execution_count": 26,
   "metadata": {},
   "outputs": [],
   "source": [
    "fname = 'json_example.json'\n",
    "\n",
    "with open(fname, 'w') as f:\n",
    "     json.dump(data, f, sort_keys=True, indent=4)#, separators=(',', ': '))"
   ]
  },
  {
   "cell_type": "code",
   "execution_count": 27,
   "metadata": {},
   "outputs": [],
   "source": [
    "%less $fname"
   ]
  },
  {
   "cell_type": "markdown",
   "metadata": {},
   "source": [
    "# References\n",
    "\n",
    "- The [pickle](https://docs.python.org/3.5/library/pickle.html?highlight=pickle#module-pickle) module implements binary protocols for serializing and de-serializing a Python object structure. It can deal with (almost) any Python object, but produces binary rather than text files, and is Python specific. The `pickle` API is similar to that of `json`.\n",
    "- The [io](https://docs.python.org/3.5/library/io.html) module provides facilities for dealing with various types of I/O."
   ]
  },
  {
   "cell_type": "code",
   "execution_count": 31,
   "metadata": {},
   "outputs": [],
   "source": [
    "import pickle as pkl\n",
    "\n",
    "with open('pkl_example.pkl', 'wb') as f:\n",
    "    pkl.dump(data, f)"
   ]
  },
  {
   "cell_type": "code",
   "execution_count": 32,
   "metadata": {},
   "outputs": [
    {
     "name": "stdout",
     "output_type": "stream",
     "text": [
      "<class 'dict'>\n",
      "{'a_string': 'Hello JSON', 'ints_in_a_tuple': (5, 6, 7, 2, 3, 5, 6), 'some_number': 5768.4454, 'list_as_well': [True, False, 'This', 'That']}\n"
     ]
    }
   ],
   "source": [
    "with open('pkl_example.pkl', 'rb') as f:\n",
    "    d = pkl.load(f)\n",
    "\n",
    "print(type(d))\n",
    "print(d)"
   ]
  },
  {
   "cell_type": "markdown",
   "metadata": {},
   "source": [
    "# Solutions\n",
    "\n",
    "## Solution: pick a number"
   ]
  },
  {
   "cell_type": "code",
   "execution_count": null,
   "metadata": {},
   "outputs": [],
   "source": [
    "n = 0\n",
    "\n",
    "while not 1 <= n <= 10:\n",
    "    user_input = input(\"Pick a number between 1 and 10: \")\n",
    "    try:\n",
    "        n = int(user_input)\n",
    "    except ValueError:\n",
    "        print(user_input, \"is not a number...\")\n",
    "        n = 0\n",
    "print(\"You picked the number\", n)"
   ]
  },
  {
   "cell_type": "markdown",
   "metadata": {},
   "source": [
    "## Solution: file iteration"
   ]
  },
  {
   "cell_type": "code",
   "execution_count": null,
   "metadata": {},
   "outputs": [],
   "source": [
    "with open('../data/crops.txt','r') as f:\n",
    "    for line in f:\n",
    "        pass\n",
    "print(line)"
   ]
  },
  {
   "cell_type": "code",
   "execution_count": null,
   "metadata": {},
   "outputs": [],
   "source": [
    "count = 0\n",
    "with open('../data/crops.txt','r') as f:\n",
    "    for line in f:\n",
    "        count += line.startswith('Garcinia')\n",
    "print(count)"
   ]
  },
  {
   "cell_type": "markdown",
   "metadata": {},
   "source": [
    "## Colophon\n",
    "This notebook was written by [Yoav Ram](http://python.yoavram.com).\n",
    "\n",
    "The notebook was written using [Python](http://python.org/) 3.7.\n",
    "Dependencies listed in [environment.yml](../environment.yml).\n",
    "\n",
    "This work is licensed under a CC BY-NC-SA 4.0 International License.\n",
    "\n",
    "![Python logo](https://www.python.org/static/community_logos/python-logo.png)"
   ]
  }
 ],
 "metadata": {
  "kernelspec": {
   "display_name": "Python 3",
   "language": "python",
   "name": "python3"
  },
  "language_info": {
   "codemirror_mode": {
    "name": "ipython",
    "version": 3
   },
   "file_extension": ".py",
   "mimetype": "text/x-python",
   "name": "python",
   "nbconvert_exporter": "python",
   "pygments_lexer": "ipython3",
   "version": "3.8.8"
  }
 },
 "nbformat": 4,
 "nbformat_minor": 4
}
