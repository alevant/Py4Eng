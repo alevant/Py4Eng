{
 "cells": [
  {
   "cell_type": "markdown",
   "metadata": {},
   "source": [
    "![Py4Eng](img/logo.png)\n",
    "\n",
    "# Modules: import and install"
   ]
  },
  {
   "cell_type": "markdown",
   "metadata": {},
   "source": [
    "# Modules\n",
    "\n",
    "Luckily, we don't have to create all the code alone. Many people have written functions that perform various tasks.  \n",
    "These functions are grouped into packages, called _modules_, which are usually designed to address a specific set of tasks.  \n",
    "These functions are not always 'ready to use' by our code, but rather have to be _imported_ into it."
   ]
  },
  {
   "cell_type": "markdown",
   "metadata": {},
   "source": [
    "## Python version\n",
    "\n",
    "We start with a simple example. Suppose we want to check the version of Python we are using. For this we would need to load the `sys` module using the `import` statement:"
   ]
  },
  {
   "cell_type": "code",
   "execution_count": null,
   "metadata": {},
   "outputs": [],
   "source": [
    "import sys"
   ]
  },
  {
   "cell_type": "markdown",
   "metadata": {},
   "source": [
    "We can get a `version_info` object that has details on the specific source code used to compile Python:"
   ]
  },
  {
   "cell_type": "code",
   "execution_count": null,
   "metadata": {
    "jupyter": {
     "outputs_hidden": false
    }
   },
   "outputs": [],
   "source": [
    "v = sys.version_info\n",
    "print(v)\n",
    "print(\"We are using Python \", v.major, \".\", v.minor, sep='')"
   ]
  },
  {
   "cell_type": "markdown",
   "metadata": {},
   "source": [
    "We can get more details on the specific _build_ we are using:"
   ]
  },
  {
   "cell_type": "code",
   "execution_count": null,
   "metadata": {
    "jupyter": {
     "outputs_hidden": false
    }
   },
   "outputs": [],
   "source": [
    "print(sys.version)"
   ]
  },
  {
   "cell_type": "markdown",
   "metadata": {},
   "source": [
    "`sys` also has other details on the system we are running on, look it up at the [docs](https://docs.python.org/3.5/library/sys.html). There is also a `platform` module:"
   ]
  },
  {
   "cell_type": "code",
   "execution_count": null,
   "metadata": {
    "jupyter": {
     "outputs_hidden": false
    }
   },
   "outputs": [],
   "source": [
    "import platform\n",
    "print('Platform', platform.system())\n",
    "print('Version', platform.version())\n",
    "print('Architecture', platform.architecture())\n",
    "print('Processor', platform.processor())"
   ]
  },
  {
   "cell_type": "markdown",
   "metadata": {},
   "source": [
    "## Math module\n",
    "\n",
    "Suppose we want to do some trigonometry, we can (in principal) write our own sine, cosine, etc. But it would be much easier to use the built-in _math_ module.\n",
    "\n",
    "First, we import the module:"
   ]
  },
  {
   "cell_type": "code",
   "execution_count": null,
   "metadata": {
    "jupyter": {
     "outputs_hidden": false
    }
   },
   "outputs": [],
   "source": [
    "import math"
   ]
  },
  {
   "cell_type": "markdown",
   "metadata": {},
   "source": [
    "Now we can use values and functions within the math module"
   ]
  },
  {
   "cell_type": "code",
   "execution_count": null,
   "metadata": {
    "jupyter": {
     "outputs_hidden": false
    }
   },
   "outputs": [],
   "source": [
    "two_pi = 2 * math.pi\n",
    "print(two_pi)\n",
    "radius = 2.3\n",
    "perimeter = two_pi * radius\n",
    "print(perimeter)\n",
    "print(math.sin(math.pi / 6))\n",
    "print(math.cos(math.pi / 3))"
   ]
  },
  {
   "cell_type": "markdown",
   "metadata": {},
   "source": [
    "To see what's inside the module, we can call the `dir` and `help` functions on it, or just [search the web](https://duckduckgo.com/?q=python+math+module)."
   ]
  },
  {
   "cell_type": "code",
   "execution_count": null,
   "metadata": {
    "jupyter": {
     "outputs_hidden": false
    }
   },
   "outputs": [],
   "source": [
    "print(dir(math))"
   ]
  },
  {
   "cell_type": "code",
   "execution_count": null,
   "metadata": {
    "jupyter": {
     "outputs_hidden": false
    },
    "scrolled": true
   },
   "outputs": [],
   "source": [
    "print(help(math))"
   ]
  },
  {
   "cell_type": "markdown",
   "metadata": {},
   "source": [
    "If you only need one or two functions from a module, you can import them, instead of the whole module. This way, we don't have to call the module name every time."
   ]
  },
  {
   "cell_type": "code",
   "execution_count": null,
   "metadata": {
    "jupyter": {
     "outputs_hidden": false
    }
   },
   "outputs": [],
   "source": [
    "from math import pi, sin, cos"
   ]
  },
  {
   "cell_type": "code",
   "execution_count": null,
   "metadata": {
    "jupyter": {
     "outputs_hidden": false
    }
   },
   "outputs": [],
   "source": [
    "# now we can use values and functions within the math module\n",
    "two_pi = 2 * pi\n",
    "print(two_pi)\n",
    "print(sin(pi / 6))\n",
    "print(cos(pi / 3))"
   ]
  },
  {
   "cell_type": "markdown",
   "metadata": {},
   "source": [
    "We can import using an alias with the `as` command. This is especially useful if you have two module with the same API and you want to change between them."
   ]
  },
  {
   "cell_type": "markdown",
   "metadata": {},
   "source": [
    "You can also view the module documentation to see what functions are available and how to use them. Each python module has a documentation page, for example: https://docs.python.org/3/library/math.html\n",
    "\n",
    "Two more useful links:\n",
    "- [PyPI](https://pypi.python.org/pypi): a repository of (almost) all Python modules  \n",
    "- [List of scientific python modules](https://wiki.python.org/moin/NumericAndScientific)"
   ]
  },
  {
   "cell_type": "markdown",
   "metadata": {},
   "source": [
    "## Installing packages\n",
    "\n",
    "Many Python modules are included within the core distribution, and all you have to do is `import` them. \n",
    "However, many more modules are contained in 3rd party packages that must be downloaded and installed first.  \n",
    "\n",
    "Python pacakges can be installed by downloading the package source code and then running a special script that comes with the pacakge, `python setup.py install`. But this is not the recommended way to install packages.\n",
    "\n",
    "To manage installations and dependencies, most people use a pacakge manager. The most common one is [pip](https://pip.pypa.io/) (which replaced `easy_install` some years ago), which is the package manager recommended by the Python organization. _pip_ installs packages that were uploaded (e.g. _deployed_) to [PyPI](http://pypi.python.org/), the Python Package Index, which is the main repository for Python packages.\n",
    "\n",
    "However, scientific pacakges (such as Numpy and Scipy) sometimes have non-Python dependencies, mostly C and Fortran code, and these dependecies can be hard to compile and link - especially on standard Windows machines. Therefore, [Continuum](http://continuum.io/) started the [conda](http://conda.pydata.org/) project. *conda* is an alternative to *pip*, able to install Python packages, but it can also do more, as it can install non-Python software (even *R*). So *conda* can install Python packages with non-Python dependencies much more smoothly.\n",
    "\n",
    "If we installed Python using the Anaconda distribution (also by *Continuum*) then we already have *pip* and *conda*.\n",
    "Let's start by updating them (remember that prefixing commands with `!` in the notebook runs them as system commands, so we don't have to open a console window):"
   ]
  },
  {
   "cell_type": "code",
   "execution_count": null,
   "metadata": {
    "jupyter": {
     "outputs_hidden": false
    }
   },
   "outputs": [],
   "source": [
    "!conda update conda pip -y -q"
   ]
  },
  {
   "cell_type": "markdown",
   "metadata": {},
   "source": [
    "### Install with *conda*\n",
    "\n",
    "We will prefer to use *conda* as it has more *power*.\n",
    "Let's install the *seaborn* package - we'll use it at a later occasion.\n",
    "The `-q` option tells conda to supress progress bars, `-y` tells it to go ahead without prompting us for approval.\n",
    "If you are running *conda* from a console, you can skip these options and see the extra output, but when running from inside a notebook it won't work without `-y`."
   ]
  },
  {
   "cell_type": "code",
   "execution_count": null,
   "metadata": {
    "jupyter": {
     "outputs_hidden": false
    }
   },
   "outputs": [],
   "source": [
    "!conda install seaborn -y -q"
   ]
  },
  {
   "cell_type": "markdown",
   "metadata": {},
   "source": [
    "*conda* installs packages from the [Anaconda.org]() repository, which is different from *PyPI* and has less packages. So some pacakges *conda* just wouldn't find and then we will try *pip*. \n",
    "\n",
    "### Installing with *pip*\n",
    "Let's install another package we will need later on, *watchdog*:"
   ]
  },
  {
   "cell_type": "code",
   "execution_count": null,
   "metadata": {
    "jupyter": {
     "outputs_hidden": false
    }
   },
   "outputs": [],
   "source": [
    "!pip install watchdog"
   ]
  },
  {
   "cell_type": "markdown",
   "metadata": {},
   "source": [
    "### Download pre-compiled installers\n",
    "\n",
    "If nothing else works, you can try looking for your package in [Gohlke's website](http://www.lfd.uci.edu/~gohlke/pythonlibs/). It contains many downloadable installers(`exe` files you just click through to easily install a package) and `wheel` files which you install by calling `pip install filename.wheel`. Make sure to choose the download that fits your python version and operating system.  \n",
    "\n",
    "### Installing from source code\n",
    "\n",
    "Not all modules are available through this website. If you don't find your module here, you might have to install from source. Details [here](https://packaging.python.org/installing/)"
   ]
  },
  {
   "cell_type": "markdown",
   "metadata": {},
   "source": [
    "# References\n",
    "\n",
    "- [Detailed guide on installing Python modules with pip](https://packaging.python.org/installing/)\n",
    "- [Packaging and Deployment with Conda](https://speakerdeck.com/teoliphant/packaging-and-deployment-with-conda) by Travis E. Oliphant"
   ]
  },
  {
   "cell_type": "markdown",
   "metadata": {},
   "source": [
    "## Colophon\n",
    "This notebook was written by [Yoav Ram](http://python.yoavram.com).\n",
    "\n",
    "The notebook was written using [Python](http://python.org/) 3.7.\n",
    "Dependencies listed in [environment.yml](../environment.yml).\n",
    "\n",
    "This work is licensed under a CC BY-NC-SA 4.0 International License.\n",
    "\n",
    "![Python logo](https://www.python.org/static/community_logos/python-logo.png)"
   ]
  }
 ],
 "metadata": {
  "kernelspec": {
   "display_name": "Python 3",
   "language": "python",
   "name": "python3"
  },
  "language_info": {
   "codemirror_mode": {
    "name": "ipython",
    "version": 3
   },
   "file_extension": ".py",
   "mimetype": "text/x-python",
   "name": "python",
   "nbconvert_exporter": "python",
   "pygments_lexer": "ipython3",
   "version": "3.8.8"
  }
 },
 "nbformat": 4,
 "nbformat_minor": 4
}
