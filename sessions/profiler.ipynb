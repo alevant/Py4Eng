{
 "cells": [
  {
   "cell_type": "code",
   "execution_count": 1,
   "id": "5a3445cd",
   "metadata": {},
   "outputs": [],
   "source": [
    "%load_ext snakeviz"
   ]
  },
  {
   "cell_type": "code",
   "execution_count": 7,
   "id": "74b9933b",
   "metadata": {},
   "outputs": [
    {
     "name": "stdout",
     "output_type": "stream",
     "text": [
      "[911, 613, 179, 827, 269, 251, 701, 163, 223, 659, 53, 71, 587, 491, 401, 631, 47, 887, 151, 947, 29, 647, 929, 743, 977, 751, 719, 31, 47, 317, 857, 953, 5, 131, 557, 173, 911, 107, 101, 3, 359, 911, 193, 997, 811, 857, 907, 331, 191, 601, 883, 587, 107, 751, 521, 197, 17, 521, 89, 379, 83, 457, 971, 163, 761, 983, 461, 433, 757, 127, 409, 929, 541, 223, 233, 751, 61, 101, 383, 193, 7, 877, 263, 457, 431, 641, 569, 379, 991, 383, 157, 587, 233, 107, 67, 911, 859, 853, 227, 487]\n",
      " \n",
      "*** Profile stats marshalled to file '/var/folders/qn/3hj7mcx56k19b_09n6dymw8h0000gn/T/tmp33liesbq'. \n",
      "Embedding SnakeViz in this document...\n"
     ]
    },
    {
     "data": {
      "text/html": [
       "\n",
       "<iframe id='snakeviz-a66cd790-b17c-11eb-9f8e-acde48001122' frameborder=0 seamless width='100%' height='1000'></iframe>\n",
       "<script>document.getElementById(\"snakeviz-a66cd790-b17c-11eb-9f8e-acde48001122\").setAttribute(\"src\", \"http://\" + document.location.hostname + \":8080/snakeviz/%2Fvar%2Ffolders%2Fqn%2F3hj7mcx56k19b_09n6dymw8h0000gn%2FT%2Ftmp33liesbq\")</script>\n"
      ],
      "text/plain": [
       "<IPython.core.display.HTML object>"
      ]
     },
     "metadata": {},
     "output_type": "display_data"
    }
   ],
   "source": [
    "%%snakeviz\n",
    "# https://blog.finxter.com/python-cprofile-a-helpful-guide-with-prime-example/\n",
    "import random\n",
    "\n",
    "def guess():\n",
    "    ''' Returns a random number '''\n",
    "    return random.randint(2, 1000)\n",
    "\n",
    "def is_prime(n):\n",
    "    ''' Checks whether n is prime '''\n",
    "    for i in range(2, n):\n",
    "        for j in range(2, n):\n",
    "            if i * j == n:\n",
    "                return False\n",
    "    return True\n",
    "\n",
    "def find_primes(num):\n",
    "    primes = []\n",
    "    while len(primes) < num:\n",
    "        p = guess()\n",
    "        if is_prime(p):\n",
    "        \tprimes.append(p)\n",
    "    return primes\n",
    "\n",
    "print(find_primes(100))"
   ]
  },
  {
   "cell_type": "code",
   "execution_count": 18,
   "id": "1ff872df",
   "metadata": {},
   "outputs": [
    {
     "name": "stdout",
     "output_type": "stream",
     "text": [
      "0: loss=16.424619, a=[0.99910465 0.81814023 0.98525564]\n",
      "5000: loss=0.477268, a=[ 2.45084731 -0.00336839 -0.61851448]\n",
      "10000: loss=0.476570, a=[ 2.61310454 -0.00345444 -0.6479314 ]\n",
      "15000: loss=0.476554, a=[ 2.63827447 -0.00346145 -0.6525979 ]\n",
      "20000: loss=0.476553, a=[ 2.64229717 -0.00346241 -0.65334631]\n",
      "25000: loss=0.476553, a=[ 2.64294312 -0.00346256 -0.65346656]\n",
      "30000: loss=0.476553, a=[ 2.64304692 -0.00346259 -0.65348588]\n",
      "35000: loss=0.476553, a=[ 2.6430636  -0.00346259 -0.65348899]\n",
      "40000: loss=0.476553, a=[ 2.64306628 -0.00346259 -0.65348949]\n",
      "45000: loss=0.476553, a=[ 2.64306671 -0.00346259 -0.65348957]\n",
      "50000: loss=0.476553, a=[ 2.64306678 -0.00346259 -0.65348958]\n",
      "Odds-ratios:\n",
      "[14.05624498  0.9965434   0.52022723]\n",
      " \n",
      "*** Profile stats marshalled to file '/var/folders/qn/3hj7mcx56k19b_09n6dymw8h0000gn/T/tmp8rufy7dj'. \n",
      "Embedding SnakeViz in this document...\n"
     ]
    },
    {
     "data": {
      "text/html": [
       "\n",
       "<iframe id='snakeviz-8d434e38-b17d-11eb-87c2-acde48001122' frameborder=0 seamless width='100%' height='1000'></iframe>\n",
       "<script>document.getElementById(\"snakeviz-8d434e38-b17d-11eb-87c2-acde48001122\").setAttribute(\"src\", \"http://\" + document.location.hostname + \":8080/snakeviz/%2Fvar%2Ffolders%2Fqn%2F3hj7mcx56k19b_09n6dymw8h0000gn%2FT%2Ftmp8rufy7dj\")</script>\n"
      ],
      "text/plain": [
       "<IPython.core.display.HTML object>"
      ]
     },
     "metadata": {},
     "output_type": "display_data"
    }
   ],
   "source": [
    "%%snakeviz\n",
    "\n",
    "import warnings\n",
    "warnings.simplefilter('ignore', FutureWarning)\n",
    "warnings.simplefilter('ignore', UserWarning)\n",
    "\n",
    "import zipfile\n",
    "\n",
    "import numpy as np\n",
    "import pandas as pd\n",
    "\n",
    "\n",
    "def logodds(X, a):\n",
    "    # X: (n,m), a: (m,) -> (1,m) -> (n,m)\n",
    "    Z = (X * a).sum(axis=1)  # -> (n,)\n",
    "    return Z\n",
    "\n",
    "\n",
    "def cross_entropy(X, Y, a):\n",
    "    Z = logodds(X, a)\n",
    "    logliks = -Z * (1 - Y) - np.log(1 + np.exp(-Z))\n",
    "    return -logliks.mean()\n",
    "\n",
    "\n",
    "def expit(Z):\n",
    "    return 1 / (1 + np.exp(-Z))\n",
    "\n",
    "\n",
    "def gradient_descent(X, Y, a, η=0.01):\n",
    "    nsamples = Y.shape[0]\n",
    "    Z = logodds(X, a)\n",
    "    Yhat = expit(Z)\n",
    "    δ = Yhat - Y\n",
    "    # X: (n,m), δ: (n,) -> (n,1) -> (n,m)\n",
    "    δ = δ.reshape((nsamples, 1))\n",
    "    grad = (X * δ).sum(axis=0) / nsamples # -> (m,)\n",
    "    assert grad.shape == a.shape, grad.shape\n",
    "    return a - η * grad\n",
    "\n",
    "\n",
    "def logistic_model(X, Y, a=(1, 1, 1), iters=50000):\n",
    "    a = np.array(a)\n",
    "    for t in range(iters+1):\n",
    "        a = gradient_descent(X, Y, a)\n",
    "        if t % (iters//10) == 0:\n",
    "            print(\"{}: loss={:.6f}, a={}\".format(t, cross_entropy(X, Y, a), a))\n",
    "    return a\n",
    "\n",
    "\n",
    "def load_data():\n",
    "    filename = '../scripts/profiler/titanic.zip'\n",
    "    titanic_zip = zipfile.ZipFile(filename)\n",
    "    with titanic_zip.open('data/titanic_train.csv') as f:\n",
    "        df = pd.read_csv(f)\n",
    "\n",
    "\n",
    "    df = df[['Sex', 'Age', 'Pclass', 'Survived']].copy() # what if I don't put .copy?\n",
    "    df['Sex'] = df['Sex'] == 'female' # convert to boolean\n",
    "    df['Sex'] = df['Sex'].astype(int) # then convert to int\n",
    "    df = df.dropna() # remove rows with \"not a number\" elements\n",
    "\n",
    "    features = ['Sex', 'Age', 'Pclass']\n",
    "    X = df[features].values\n",
    "    Y = df['Survived'].values\n",
    "    return X, Y\n",
    "\n",
    "\n",
    "if __name__ == '__main__':\n",
    "    X, Y = load_data()\n",
    "\n",
    "    a = logistic_model(X, Y)\n",
    "\n",
    "    print(\"Odds-ratios:\")\n",
    "    print(np.exp(a))"
   ]
  },
  {
   "cell_type": "code",
   "execution_count": null,
   "id": "8848f532",
   "metadata": {},
   "outputs": [],
   "source": []
  }
 ],
 "metadata": {
  "kernelspec": {
   "display_name": "Python 3 (ipykernel)",
   "language": "python",
   "name": "python3"
  },
  "language_info": {
   "codemirror_mode": {
    "name": "ipython",
    "version": 3
   },
   "file_extension": ".py",
   "mimetype": "text/x-python",
   "name": "python",
   "nbconvert_exporter": "python",
   "pygments_lexer": "ipython3",
   "version": "3.9.2"
  }
 },
 "nbformat": 4,
 "nbformat_minor": 5
}
