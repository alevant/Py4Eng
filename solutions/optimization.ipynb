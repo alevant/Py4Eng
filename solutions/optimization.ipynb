{
 "cells": [
  {
   "cell_type": "markdown",
   "id": "9adbe015",
   "metadata": {},
   "source": [
    "## 1"
   ]
  },
  {
   "cell_type": "code",
   "execution_count": null,
   "id": "9e636049",
   "metadata": {},
   "outputs": [],
   "source": [
    "def f(x):\n",
    "    return (x-2)*(x+1)**3\n",
    "\n",
    "x0 = opt.minimize_scalar(f).x\n",
    "print('f({})={}'.format(x0, f(x0)))"
   ]
  },
  {
   "cell_type": "markdown",
   "id": "2855aa8e",
   "metadata": {},
   "source": [
    "## 2"
   ]
  },
  {
   "cell_type": "code",
   "execution_count": null,
   "id": "154a0946",
   "metadata": {},
   "outputs": [],
   "source": [
    "def f(x):\n",
    "    return scipy.special.fresnel(x)[0]\n",
    "def neg_f(x):\n",
    "    return -f(x)\n",
    "\n",
    "result = opt.minimize_scalar(neg_f, method=\"bounded\", bounds=[2, 3])\n",
    "print(result)\n",
    "x = np.linspace(1, 4, 1000)\n",
    "minplot(x, f, result.x)\n",
    "plt.axvspan(2, 3, alpha=0.3);"
   ]
  }
 ],
 "metadata": {
  "kernelspec": {
   "display_name": "Python [conda env:scipy]",
   "language": "python",
   "name": "conda-env-scipy-py"
  },
  "language_info": {
   "codemirror_mode": {
    "name": "ipython",
    "version": 3
   },
   "file_extension": ".py",
   "mimetype": "text/x-python",
   "name": "python",
   "nbconvert_exporter": "python",
   "pygments_lexer": "ipython3",
   "version": "3.8.8"
  }
 },
 "nbformat": 4,
 "nbformat_minor": 5
}
