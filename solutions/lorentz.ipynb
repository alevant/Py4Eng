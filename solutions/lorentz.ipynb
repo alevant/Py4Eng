{
 "cells": [
  {
   "cell_type": "code",
   "execution_count": null,
   "id": "e0fa893b",
   "metadata": {},
   "outputs": [],
   "source": [
    "α = 10\n",
    "ρ = 28\n",
    "β = 8/3\n",
    "\n",
    "def ode(v, t, α, ρ, β):\n",
    "    x, y, z = v\n",
    "    return np.array([\n",
    "        # your code here\n",
    "        α * (y - x),\n",
    "        x * (ρ - z) - y,\n",
    "        x * y - β * z\n",
    "    ])\n",
    "\n",
    "t = np.linspace(0, 20, 2000)\n",
    "x, y, z = odeint(ode, (0.1, 0.1, 0.1), t, args=(α, ρ, β)).T"
   ]
  }
 ],
 "metadata": {
  "kernelspec": {
   "display_name": "Python 3 (ipykernel)",
   "language": "python",
   "name": "python3"
  },
  "language_info": {
   "codemirror_mode": {
    "name": "ipython",
    "version": 3
   },
   "file_extension": ".py",
   "mimetype": "text/x-python",
   "name": "python",
   "nbconvert_exporter": "python",
   "pygments_lexer": "ipython3",
   "version": "3.9.2"
  }
 },
 "nbformat": 4,
 "nbformat_minor": 5
}
