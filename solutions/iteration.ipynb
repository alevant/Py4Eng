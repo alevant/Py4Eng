{
 "cells": [
  {
   "cell_type": "markdown",
   "id": "9af0068a",
   "metadata": {},
   "source": [
    "## Leap year"
   ]
  },
  {
   "cell_type": "code",
   "execution_count": null,
   "id": "990e693e",
   "metadata": {},
   "outputs": [],
   "source": [
    "leap_years = [year for year in range(2020) if year % 400 == 0 or (year % 4 == 0 and year % 100 !=0)]\n",
    "print(len(leap_years))"
   ]
  },
  {
   "cell_type": "markdown",
   "id": "46272dfb",
   "metadata": {},
   "source": [
    "## Secret"
   ]
  },
  {
   "cell_type": "code",
   "execution_count": null,
   "id": "0f2fd382",
   "metadata": {},
   "outputs": [],
   "source": [
    "secret = \"\"\"Mq osakk le eh ue usq qhp, mq osakk xzlsu zh Xcahgq,\n",
    "mq osakk xzlsu eh usq oqao ahp egqaho,\n",
    "mq osakk xzlsu mzus lcemzhl gehxzpqhgq ahp lcemzhl oucqhlus zh usq azc, mq osakk pqxqhp ebc Zokahp, msauqjqc usq geou dat rq,\n",
    "mq osakk xzlsu eh usq rqagsqo,\n",
    "mq osakk xzlsu eh usq kahpzhl lcebhpo,\n",
    "mq osakk xzlsu zh usq xzqkpo ahp zh usq oucqquo,\n",
    "mq osakk xzlsu zh usq szkko;\n",
    "mq osakk hqjqc obccqhpqc, ahp qjqh zx, mszgs Z pe heu xec a dedqhu rqkzqjq, uszo Zokahp ec a kaclq iacu ex zu mqcq obrfblauqp ahp ouacjzhl, usqh ebc Qdizcq rqtehp usq oqao, acdqp ahp lbacpqp rt usq Rczuzos Xkqqu, mebkp gacct eh usq oucbllkq, bhuzk, zh Lep’o leep uzdq, usq Hqm Meckp, mzus akk zuo iemqc ahp dzlsu, ouqio xecus ue usq cqogbq ahp usq kzrqcauzeh ex usq ekp.\"\"\"\n",
    "\n",
    "code = {'w': 'x', 'L': 'G', 'c': 'r', 'x': 'f', 'G': 'C', 'E': 'O', 'h': 'n', 'O': 'S', 'y': 'q', 'R': 'B', 'd': 'm', 'f': 'j', 'i': 'p', 'o': 's', 'g': 'c', 'a': 'a', 'u': 't', 'k': 'l', 'q': 'e', 'r': 'b', 'V': 'Z', 'X': 'F', 'N': 'K', 'B': 'U', 'T': 'Y', 'M': 'W', 'U': 'T', 'm': 'w', 'C': 'R', 'J': 'V', 't': 'y', 'S': 'H', 'v': 'z', 'e': 'o', 'D': 'M', 'p': 'd', 'K': 'L', 'A': 'A', 'P': 'D', 'l': 'g', 's': 'h', 'W': 'X', 'H': 'N', 'j': 'v', 'z': 'i', 'I': 'P', 'b': 'u', 'Z': 'I', 'F': 'J', 'Y': 'Q', 'Q': 'E', 'n': 'k'}\n",
    "\n",
    "decoded = (code.get(c, c) for c in secret)\n",
    "message = str.join('', decoded)\n",
    "print(message)"
   ]
  },
  {
   "cell_type": "markdown",
   "id": "379e4f6b",
   "metadata": {},
   "source": [
    "## Factors"
   ]
  },
  {
   "cell_type": "code",
   "execution_count": null,
   "id": "1592e544",
   "metadata": {},
   "outputs": [],
   "source": [
    "def factors(n):\n",
    "    d = 2\n",
    "    while n > 1:\n",
    "        if n % d == 0:\n",
    "            n //= d            \n",
    "            yield d    \n",
    "        else:\n",
    "            d += 1"
   ]
  },
  {
   "cell_type": "markdown",
   "id": "16caed5d",
   "metadata": {},
   "source": [
    "## Fibonacci"
   ]
  },
  {
   "cell_type": "code",
   "execution_count": null,
   "id": "c3179190",
   "metadata": {},
   "outputs": [],
   "source": [
    "def fibonacci():\n",
    "    yield 0\n",
    "    an = 0\n",
    "    an1 = 1\n",
    "    while True:\n",
    "        an, an1 = an1, an+an1\n",
    "        yield an"
   ]
  },
  {
   "cell_type": "markdown",
   "id": "6adfa08e",
   "metadata": {},
   "source": [
    "## Have seen"
   ]
  },
  {
   "cell_type": "code",
   "execution_count": null,
   "id": "719a9b54",
   "metadata": {},
   "outputs": [],
   "source": [
    "def have_seen():\n",
    "    seen = set()\n",
    "    seen_this = False\n",
    "    while True:\n",
    "        word = yield seen_this\n",
    "        seen_this = word in seen\n",
    "        seen.add(word)"
   ]
  },
  {
   "cell_type": "markdown",
   "id": "27f74c45",
   "metadata": {},
   "source": [
    "## My all"
   ]
  },
  {
   "cell_type": "code",
   "execution_count": null,
   "id": "68ea9aa8",
   "metadata": {},
   "outputs": [],
   "source": [
    "def myall(iterable):\n",
    "    booleans = (bool(e) for e in iterable)\n",
    "    return reduce(operator.and_, booleans, True)"
   ]
  }
 ],
 "metadata": {
  "kernelspec": {
   "display_name": "Python 3",
   "language": "python",
   "name": "python3"
  },
  "language_info": {
   "codemirror_mode": {
    "name": "ipython",
    "version": 3
   },
   "file_extension": ".py",
   "mimetype": "text/x-python",
   "name": "python",
   "nbconvert_exporter": "python",
   "pygments_lexer": "ipython3",
   "version": "3.9.2"
  }
 },
 "nbformat": 4,
 "nbformat_minor": 5
}
