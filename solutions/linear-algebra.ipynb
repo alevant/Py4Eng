{
 "cells": [
  {
   "cell_type": "markdown",
   "id": "0b922cdf",
   "metadata": {},
   "source": [
    "## Determinant"
   ]
  },
  {
   "cell_type": "code",
   "execution_count": null,
   "id": "e317eb86",
   "metadata": {},
   "outputs": [],
   "source": [
    "M = np.array([\n",
    "    [-5, -3, 7],\n",
    "    [2, -5, 8],\n",
    "    [1, 4, -2]\n",
    "])\n",
    "np.linalg.det(M)"
   ]
  },
  {
   "cell_type": "markdown",
   "id": "0ba24d2b",
   "metadata": {},
   "source": [
    "## Random matrices full rank"
   ]
  },
  {
   "cell_type": "code",
   "execution_count": null,
   "id": "5b4233bd",
   "metadata": {},
   "outputs": [],
   "source": [
    "n = 2\n",
    "reps = 1000\n",
    "matrices = (np.random.randint(0, 2, (n, n)) for _ in range(reps))\n",
    "ranks = (np.linalg.matrix_rank(M) for M in matrices)\n",
    "full_ranks = (r == n for r in ranks)\n",
    "prob = sum(full_ranks) / reps\n",
    "print(prob)"
   ]
  }
 ],
 "metadata": {
  "kernelspec": {
   "display_name": "Python 3",
   "language": "python",
   "name": "python3"
  },
  "language_info": {
   "codemirror_mode": {
    "name": "ipython",
    "version": 3
   },
   "file_extension": ".py",
   "mimetype": "text/x-python",
   "name": "python",
   "nbconvert_exporter": "python",
   "pygments_lexer": "ipython3",
   "version": "3.9.2"
  }
 },
 "nbformat": 4,
 "nbformat_minor": 5
}
