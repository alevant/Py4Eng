{
 "cells": [
  {
   "cell_type": "markdown",
   "id": "3a90485b",
   "metadata": {
    "toc-hr-collapsed": false
   },
   "source": [
    "## Solution: contains"
   ]
  },
  {
   "cell_type": "code",
   "execution_count": null,
   "id": "57b9f884",
   "metadata": {},
   "outputs": [],
   "source": [
    "class Rectangle1:\n",
    "   \n",
    "    def __init__(self, lower_left_vertex, upper_right_vertex):        \n",
    "        self.llv = Point(*lower_left_vertex)\n",
    "        self.urv = Point(*upper_right_vertex)\n",
    "        assert self.llv < self.urv, \"Lower left vertex should be lower than upper right vertex\"\n",
    "        \n",
    "    def __contains__(self, point):\n",
    "        return self.llv < point < self.urv"
   ]
  },
  {
   "cell_type": "markdown",
   "id": "c9c0f2fc",
   "metadata": {},
   "source": [
    "## Solution: Rectangle2"
   ]
  },
  {
   "cell_type": "code",
   "execution_count": null,
   "id": "418221dd",
   "metadata": {},
   "outputs": [],
   "source": [
    "class Rectangle2:\n",
    "    \"\"\"Describe a parallel-axes rectangle by storing lower left point, height and width.\n",
    "    \n",
    "    Attributes\n",
    "    ----------\n",
    "    point : Point\n",
    "        lower left point\n",
    "    width : float\n",
    "        width\n",
    "    height : float\n",
    "        height\n",
    "    \"\"\"    \n",
    "    def __init__(self, lower_left_vertex, width, height):        \n",
    "        self.llv = Point(*lower_left_vertex)\n",
    "        self._height = height\n",
    "        self._width = width\n",
    "                \n",
    "    def __str__(self):\n",
    "        return \"Rectangle with lower left {}, width {}, and height {}\".format(self.llv, self.width, self.height)\n",
    "\n",
    "    @property\n",
    "    def height(self):\n",
    "        return self._height\n",
    "      \n",
    "    @property\n",
    "    def width(self):\n",
    "        return self._width\n",
    "\n",
    "    @property\n",
    "    def area(self):\n",
    "        return self.height * self.width\n",
    "       \n",
    "    def transpose(self):\n",
    "        \"\"\"Reflection with regard to the line passing through lower left vertex with angle 315 (-45) degrees\n",
    "        \"\"\"\n",
    "        cls = type(self)\n",
    "        return cls(self.llv, self.height, self.width)"
   ]
  },
  {
   "cell_type": "markdown",
   "id": "cf9b8e08",
   "metadata": {},
   "source": [
    "## Solution: Revolving door"
   ]
  },
  {
   "cell_type": "code",
   "execution_count": null,
   "id": "fc886ea6",
   "metadata": {},
   "outputs": [],
   "source": [
    "class RevolvingDoor(Door):\n",
    "    def open(self):\n",
    "        super().open()\n",
    "        super().close()\n",
    "\n",
    "rdoor = RevolvingDoor()\n",
    "rdoor.open()\n",
    "print(rdoor)"
   ]
  },
  {
   "cell_type": "code",
   "execution_count": null,
   "id": "1f0b9356",
   "metadata": {},
   "outputs": [],
   "source": [
    "class RevolvingDoor:\n",
    "    def __init__(self):\n",
    "        self._door = Door(status=Door.CLOSED)\n",
    "        \n",
    "    def __str__(self):\n",
    "        return str(self._door)\n",
    "    \n",
    "    def __getattr__(self, attr):\n",
    "        return getattr(self._door, attr)\n",
    "    \n",
    "    def open(self):\n",
    "        self._door.open()\n",
    "        self._door.close()\n",
    "\n",
    "rdoor = RevolvingDoor()\n",
    "rdoor.open()\n",
    "print(rdoor)"
   ]
  }
 ],
 "metadata": {
  "kernelspec": {
   "display_name": "Python 3 (ipykernel)",
   "language": "python",
   "name": "python3"
  },
  "language_info": {
   "codemirror_mode": {
    "name": "ipython",
    "version": 3
   },
   "file_extension": ".py",
   "mimetype": "text/x-python",
   "name": "python",
   "nbconvert_exporter": "python",
   "pygments_lexer": "ipython3",
   "version": "3.9.2"
  }
 },
 "nbformat": 4,
 "nbformat_minor": 5
}
