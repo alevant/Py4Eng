{
 "cells": [
  {
   "cell_type": "markdown",
   "metadata": {},
   "source": [
    "# Wine"
   ]
  },
  {
   "cell_type": "code",
   "execution_count": null,
   "metadata": {},
   "outputs": [],
   "source": [
    "X_train, X_test, y_train, y_test = train_test_split(X, y, test_size=0.33, random_state=0)\n",
    "classifier = RandomForestClassifier(1000)\n",
    "classifier.fit(X_train, y_train)\n",
    "print(\"Test accuracy:\", classifier.score(X_test, y_test))"
   ]
  },
  {
   "cell_type": "markdown",
   "metadata": {},
   "source": [
    "# Digits"
   ]
  },
  {
   "cell_type": "code",
   "execution_count": null,
   "metadata": {},
   "outputs": [],
   "source": [
    "nn = neural_network.MLPClassifier(hidden_layer_sizes=(1000, 500))\n",
    "nn.fit(X_train, y_train)\n",
    "print(\"Test accuracy: {:.4f}\".format(nn.score(X_test, y_test)))"
   ]
  },
  {
   "cell_type": "markdown",
   "metadata": {},
   "source": [
    "# Tennis"
   ]
  },
  {
   "cell_type": "code",
   "execution_count": null,
   "metadata": {},
   "outputs": [],
   "source": [
    "feature = 'player1 double faults'\n",
    "\n",
    "X = df[feature].values\n",
    "y = df['player1 total points won'].values\n",
    "y = y[np.isfinite(X)]\n",
    "X = X[np.isfinite(X)]\n",
    "\n",
    "# scikit-learn likes X to be 2D, even if there is only one feature\n",
    "X = X.reshape((-1, 1)) \n",
    "# train-test split\n",
    "X_train, X_test, y_train, y_test = train_test_split(X, y, test_size=0.2, random_state=0)\n",
    "\n",
    "regressor = linear_model.LinearRegression()\n",
    "regressor.fit(X_train, y_train)\n",
    "print(\"R^2: {:.4f}\".format(regressor.score(X_test, y_test)))\n",
    "\n",
    "plt.plot(X, y, '.k')\n",
    "plt.plot(X, regressor.predict(X))\n",
    "plt.xlabel(feature)\n",
    "plt.ylabel('total points won')\n",
    "sns.despine()"
   ]
  },
  {
   "cell_type": "markdown",
   "metadata": {},
   "source": [
    "# Lasso"
   ]
  },
  {
   "cell_type": "code",
   "execution_count": null,
   "metadata": {},
   "outputs": [],
   "source": [
    "α = 0.1 # which α to use? try LassoCV\n",
    "regressor = linear_model.Lasso(α)\n",
    "regressor.fit(X_train, y_train)\n",
    "y_hat = regressor.predict(X_test)\n",
    "score = regressor.score(X_test, y_test)\n",
    "print('Lasso model score: {:.2f}'.format(score))\n",
    "\n",
    "fig, axes = plt.subplots(1, 2, figsize=(12, 4))\n",
    "\n",
    "ax = axes[0]\n",
    "viz = yb.regressor.PredictionError(regressor, is_fitted=True, line_color='k', bestfit=False, ax=ax)\n",
    "viz.fit(X_train, y_train) \n",
    "viz.score(X_test, y_test) \n",
    "viz.finalize()\n",
    "ax.legend().set_visible(False)\n",
    "ax.set_title('')\n",
    "\n",
    "ax = axes[1]\n",
    "coefs = regressor.coef_\n",
    "coefs_idx = np.arange(len(coefs))\n",
    "pos_coefs = coefs > 0\n",
    "neg_coefs = coefs < 0\n",
    "\n",
    "ax.bar(coefs_idx[pos_coefs], coefs[pos_coefs], color='r')\n",
    "ax.bar(coefs_idx[neg_coefs], coefs[neg_coefs], color='b')\n",
    "ax.axhline(0, color='k')\n",
    "ax.set_ylabel('Linear coefficient, $a_j$');\n",
    "ax.set_xticks(coefs_idx)\n",
    "ax.set_xticklabels(feature_names, rotation=90)\n",
    "ax.set_xlim(-0.5, coefs_idx.max()+0.5)\n",
    "\n",
    "fig.tight_layout()"
   ]
  },
  {
   "cell_type": "code",
   "execution_count": null,
   "metadata": {},
   "outputs": [],
   "source": [
    "αs = np.logspace(-3, -0.5)\n",
    "viz = yb.regressor.AlphaSelection(linear_model.LassoCV(alphas=αs))\n",
    "viz.fit(X_train, y_train)\n",
    "viz.finalize()\n",
    "plt.xscale('log')\n",
    "plt.title('')\n",
    "plt.xlabel('α')\n",
    "plt.legend().set_visible(False)\n",
    "\n",
    "print('LassoCV α: {:.2g}'.format(viz.estimator.alpha_))\n",
    "print('LassoCV model score: {:.2f}'.format(viz.score(X_test, y_test)))"
   ]
  }
 ],
 "metadata": {
  "kernelspec": {
   "display_name": "Python 3",
   "language": "python",
   "name": "python3"
  },
  "language_info": {
   "codemirror_mode": {
    "name": "ipython",
    "version": 3
   },
   "file_extension": ".py",
   "mimetype": "text/x-python",
   "name": "python",
   "nbconvert_exporter": "python",
   "pygments_lexer": "ipython3",
   "version": "3.9.2"
  }
 },
 "nbformat": 4,
 "nbformat_minor": 4
}
