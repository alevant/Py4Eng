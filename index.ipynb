{
 "cells": [
  {
   "cell_type": "markdown",
   "metadata": {},
   "source": [
    "![Py4Eng](sessions/img/logo.png)\n",
    "\n",
    "# Python High Performance Computing\n",
    "## [Yoav Ram](http://python.yoavram.com)"
   ]
  },
  {
   "cell_type": "markdown",
   "metadata": {},
   "source": [
    "# Intermediate\n",
    "- Why Python? [slides](https://speakerdeck.com/yoavram/introduction-to-python-for-scientific-computing)\n",
    "\n",
    "## Day 1\n",
    "- Comprehensions, iterators, generators: [notebook](sessions/iteration.ipynb) | [solution](solutions/iteration.ipynb)\n",
    "\n",
    "## Day 2\n",
    "\n",
    "- Object-oriented programming: [notebook](sessions/oop.ipynb) | [solution](solutions/oop.ipynb)\n",
    "\n",
    "## Day 3\n",
    "- Errors & exceptions: [notebook](sessions/exceptions.ipynb)\n",
    "- Modules & package managers: [notebook](sessions/modules.ipynb)\n",
    "- Packaging & testing: [myzcat](https://github.com/yoavram/myzcat)\n",
    "- Numerical Python with NumPy: [notebook](sessions/numpy.ipynb) | [solution](solutions/numpy.ipynb)\n",
    "\n",
    "## Day 4\n",
    "- Plotting with Matplotlib: [notebook](sessions/matplotlib.ipynb) | [solution](solutions/matplotlib.ipynb)\n",
    "- Image processing: [notebook](sessions/image-processing.ipynb) | [solution](solutions/image-processing.ipynb)\n",
    "- Linear algebra: [notebook](sessions/linear-algebra.ipynb) | [solution](solutions/linear-algebra.ipynb)\n",
    "- Optimization: [notebook](sessions/optimization.ipynb) | [solution](solutions/optimization.ipynb)"
   ]
  },
  {
   "cell_type": "markdown",
   "metadata": {},
   "source": [
    "# Advanced\n",
    "- Why Python? [slides](https://speakerdeck.com/yoavram/introduction-to-python-for-scientific-computing)\n",
    "\n",
    "## Day 1\n",
    "- Comprehensions, iterators, generators: [notebook](sessions/iteration.ipynb)\n",
    "\n",
    "## Day 2\n",
    "- Object-oriented programming: [notebook](sessions/oop.ipynb)\n",
    "\n",
    "## Day 3\n",
    "- Numerical Python with NumPy: [notebook](sessions/numpy.ipynb) | [solution](solutions/numpy.ipynb)\n",
    "\n",
    "## Day 4\n",
    "- TODO Concurrency: [notebook](sessions/concurrency.ipynb) | [solution](solutions/concurrency.ipynb)"
   ]
  },
  {
   "cell_type": "markdown",
   "metadata": {},
   "source": [
    "## Getting help\n",
    "\n",
    "- Use autocompletion by pressing `Tab`. \n",
    " - In the middle of a word it will try to finish the variable name.\n",
    " - Just after a dot (`.`) it will try to bring up a menu of methods and attributes; the variable before the dot must already be defined.\n",
    "- Use documentation by pressing `Shift+Tab`; this is especially useful inside a function parentheses as it will show the function arguments, but it can be used anywhere. Again, variables must already be defined."
   ]
  },
  {
   "cell_type": "markdown",
   "metadata": {},
   "source": [
    "## Terminal\n",
    "\n",
    "To open a terminal inside Jupyter, choose `File->New...->Terminal` in the top menu."
   ]
  },
  {
   "cell_type": "markdown",
   "metadata": {},
   "source": [
    "## Monitoring CPU\n",
    "\n",
    "To monitor CPU of your programs:\n",
    "- Open a terminal window (see above).\n",
    "- Run `htop`.\n",
    "- If `htop` is not available, you can install another program: `python -m pip install glances` and then run `glances -1 -4`."
   ]
  }
 ],
 "metadata": {
  "kernelspec": {
   "display_name": "Python 3",
   "language": "python",
   "name": "python3"
  },
  "language_info": {
   "codemirror_mode": {
    "name": "ipython",
    "version": 3
   },
   "file_extension": ".py",
   "mimetype": "text/x-python",
   "name": "python",
   "nbconvert_exporter": "python",
   "pygments_lexer": "ipython3",
   "version": "3.9.2"
  }
 },
 "nbformat": 4,
 "nbformat_minor": 4
}
