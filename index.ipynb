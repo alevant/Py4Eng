{
 "cells": [
  {
   "cell_type": "markdown",
   "metadata": {},
   "source": [
    "![Py4Eng](sessions/img/logo.png)\n",
    "\n",
    "# Data Science with Python\n",
    "## [Yoav Ram](http://python.yoavram.com)"
   ]
  },
  {
   "cell_type": "markdown",
   "metadata": {},
   "source": [
    "## Day 1: Introduction to Machine Learning with Python\n",
    "\n",
    "- Numerical Python with NumPy: [notebook](sessions/numpy.ipynb) | [solution](solutions/numpy.ipynb)\n",
    "- Plotting with Matplotlib: [notebook](sessions/matplotlib.ipynb) | [solution](solutions/matplotlib.ipynb)\n",
    "- Data analysis with Pandas and Seaborn: [notebook](sessions/pandas-seaborn.ipynb) | [solution](solutions/pandas-seaborn.ipynb)\n",
    "- Machine learning with Scikit-learn: [notebook](sessions/scikit-learn.ipynb) | [solution](solutions/linear-model.py) | [exercise: linear model](exercises/linear-model.ipynb) | [solution: linear model](solutions/linear-model.py) | [exercise: logistic model](exercises/logistic-tennis.ipynb) | [solution: logistic model](solutions/logistic-tennis.py)\n",
    "\n",
    "#### Homework\n",
    "- Do at least 25 of these [100 NumPy exercises](https://github.com/rougier/numpy-100/blob/master/100_Numpy_exercises_no_solution.ipynb)\n",
    "- Ex 1 in the [sign language assignment](exercises/sign-lang.pdf): find hand gestures."
   ]
  },
  {
   "cell_type": "markdown",
   "metadata": {},
   "source": [
    "## Day 2: Introduction to Deep Learning with Python\n",
    "\n",
    "- Linear Model: [notebook](sessions/linear-model.ipynb) | [exercise](exercises/linear-model.ipynb) | [solution](solutions/linear-model.py)\n",
    "- Logistic Model: [notebook](sessions/logistic-model.ipynb) | [solution](solutions/logistic-model.py) | [exercise](exercises/logistic-tennis.ipynb) | [solution](solutions/logistic-tennis.py)\n",
    "- Softmax model: [notebook](sessions/softmax-model.ipynb) | [solution](solutions/softmax-model.py) \n",
    "- Feed forward networks: [notebook](sessions/FFN.ipynb) | [solution](solutions/FFN.py) | [exercise](exercises/FFN_GenModel.ipynb) | [solution](solutions/FFN_GenModel.py)\n",
    "- Convolutional neural networks with Keras: [notebook](sessions/K_CNN.ipynb) | [exercise](exercises/CNN.ipynb) | [solution](solutions/CNN.ipynb)\n",
    "\n",
    "#### Homework\n",
    "- Go back to [notebook](sessions/FFN.ipynb) and finish implementing the `feed_forward` and `back_propagation` functions to work on arbitrary number of layers.\n",
    "- [FFN exercise](exercises/FFN_GenModel.ipynb): generative model\n",
    "- [CNN exercise](exercises/CNN.ipynb): Fashion items\n",
    "- Ex 2 in the [sign language assignment](exercises/sign-lang.pdf): classify hand gestures."
   ]
  },
  {
   "cell_type": "markdown",
   "metadata": {},
   "source": [
    "## Day 3: Trending Neural Networks with Keras\n",
    "\n",
    "- Pre-trained models: [notebook](sessions/pretrained.ipynb)\n",
    "- Recurrent neural networks: [notebook](sessions/RNN.ipynb) | [exercise](exercises/RNN.ipynb) | [solution](solutions/RNN.ipynb)\n",
    "- Reinforcement learning: [notebook](sessions/reinforcement.ipynb) | [exercise](exercises/reinforcement.ipynb) | [solution](solutions/reinforcement.ipynb)\n",
    "- Convolutional networks with spectral data: [notebook](sessions/audio.ipynb)  | [exercise](exercises/audio.ipynb) | [solution](solutions/audio.ipynb)\n",
    "- Generative adversarial networks: [notebook](sessions/GAN.ipynb)  | [exercise](exercises/GAN.ipynb) | [solution](solutions/GAN.ipynb)\n",
    "\n",
    "#### Notes\n",
    "- To download data before the workshop, run `python download_data.py` in the terminal.\n",
    "- Remember that if you access a GPU from two notebooks, your kernel will get stuck. Quit all kernels before starting a new session. You can quit kernels by clicking the _running man_ icon on the left (Jupyter Lab), or going to the dashboard and then the [_running_ tab](http://localhost:8888/tree#running) (Jupyter notebook).\n",
    "- See comment below on optionally monitoring the GPU.\n",
    "\n",
    "#### Homework\n",
    "- See exercises above.\n",
    "- [ACGAN](exercises/ACGAN.ipynb) ([solution](solutions/ACGAN.ipynb)): use an auxillary classifier generative adversarial networks to generate specific digits."
   ]
  },
  {
   "cell_type": "markdown",
   "metadata": {},
   "source": [
    "## Getting help\n",
    "\n",
    "- Use autocompletion by pressing `Tab`. \n",
    " - In the middle of a word it will try to finish the variable name.\n",
    " - Just after a dot (`.`) it will try to bring up a menu of methods and attributes; the variable before the dot must already be defined.\n",
    "- Use documentation by pressing `Shift+Tab`; this is especially useful inside a function parentheses as it will show the function arguments, but it can be used anywhere. Again, variables must already be defined."
   ]
  },
  {
   "cell_type": "markdown",
   "metadata": {},
   "source": [
    "## Updating the notebooks with git\n",
    "\n",
    "### Check version\n",
    "To check your version of the notebooks folder, open a terminal or command line and run:\n",
    "```\n",
    "git log\n",
    "```\n",
    "The first line should have the name of the latest \"commit\" (version).\n",
    "\n",
    "### Revert version\n",
    "\n",
    "To reset all changes you made to notebooks, open a terminal or command line and run:\n",
    "```\n",
    "git reset --hard HEAD\n",
    "```\n",
    "\n",
    "### Update version\n",
    "\n",
    "To update the notebooks folder, open a terminal or command line and run:\n",
    "```\n",
    "git pull\n",
    "```"
   ]
  },
  {
   "cell_type": "markdown",
   "metadata": {},
   "source": [
    "## Terminal\n",
    "\n",
    "To open a terminal inside Jupyter, choose `File->New...->Terminal` in the top menu."
   ]
  },
  {
   "cell_type": "markdown",
   "metadata": {},
   "source": [
    "## Monitoring CPU\n",
    "\n",
    "To monitor CPU of your programs:\n",
    "- Open a terminal window (see above).\n",
    "- Run `htop`.\n",
    "- If `htop` is not available, you can install another program: `python -m pip install glances` and then run `glances -1 -4`."
   ]
  },
  {
   "cell_type": "markdown",
   "metadata": {},
   "source": [
    "## Monitoring GPU on Day 3\n",
    "\n",
    "`gpustat` is a utility that allows to monitor the GPU, including its work load, memory load, and temperature, \n",
    "so you can see that the GPU works when you train your networks.\n",
    "This is only useful on a machine with a GPU, for example, on AWS VMs.\n",
    "\n",
    "- Open a terminal inside Jupyter (see above).\n",
    "- Install the utility with `python -m pip install gpustat`\n",
    "- Run it with `gpustat -cp -i 0.1` (the 0.1 determines that update rate in seconds)."
   ]
  }
 ],
 "metadata": {
  "kernelspec": {
   "display_name": "Python 3",
   "language": "python",
   "name": "python3"
  },
  "language_info": {
   "codemirror_mode": {
    "name": "ipython",
    "version": 3
   },
   "file_extension": ".py",
   "mimetype": "text/x-python",
   "name": "python",
   "nbconvert_exporter": "python",
   "pygments_lexer": "ipython3",
   "version": "3.7.3"
  }
 },
 "nbformat": 4,
 "nbformat_minor": 4
}
